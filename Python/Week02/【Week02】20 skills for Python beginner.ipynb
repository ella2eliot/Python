{
 "cells": [
  {
   "cell_type": "markdown",
   "metadata": {},
   "source": [
    "##### !!! please DO NOT rename this file !!!"
   ]
  },
  {
   "cell_type": "markdown",
   "metadata": {
    "colab_type": "text",
    "id": "DzqWge2YYMlR"
   },
   "source": [
    "### 20 skills for Python beginner (1) tip01~tip11\n",
    "- student id:112524031\n",
    "- name：施盈琪"
   ]
  },
  {
   "cell_type": "markdown",
   "metadata": {
    "colab_type": "text",
    "id": "wp0XXhyeYMlS"
   },
   "source": [
    "##### 01. Ten ways to say \"HELLO WORLD\""
   ]
  },
  {
   "cell_type": "code",
   "execution_count": 3,
   "metadata": {
    "colab": {},
    "colab_type": "code",
    "id": "ZCZz2agMYMlU"
   },
   "outputs": [
    {
     "name": "stdout",
     "output_type": "stream",
     "text": [
      "HELLO WORLD\n"
     ]
    }
   ],
   "source": [
    "### string\n",
    "print(\"HELLO WORLD\")"
   ]
  },
  {
   "cell_type": "code",
   "execution_count": 9,
   "metadata": {},
   "outputs": [
    {
     "name": "stdout",
     "output_type": "stream",
     "text": [
      "HELLO WORLD\n",
      "HELLO WORLD\n"
     ]
    }
   ],
   "source": [
    "### String literals in python are surrounded by either single quotation marks, or double quotation marks\n",
    "print(\"HELLO WORLD\")\n",
    "print(\"HELLO WORLD\")"
   ]
  },
  {
   "cell_type": "code",
   "execution_count": 10,
   "metadata": {},
   "outputs": [
    {
     "name": "stdout",
     "output_type": "stream",
     "text": [
      "HELLO WORLD\n"
     ]
    }
   ],
   "source": [
    "### variable\n",
    "# Variables are containers for storing data values.\n",
    "# Unlike other programming languages, Python has no command for declaring a variable.\n",
    "A = \"HELLO WORLD\"\n",
    "print(A)"
   ]
  },
  {
   "cell_type": "markdown",
   "metadata": {
    "colab_type": "text",
    "id": "GOL1Y2x4YMlg"
   },
   "source": [
    "Variable Name Rules:\n",
    "- A variable name must start with a letter or the underscore _ character.\n",
    "- A variable name cannot start with a number.\n",
    "- A variable name can only contain alpha-numeric characters and underscores (A-z, 0-9, and _ )\n",
    "- Variable names are case-sensitive (age, Age and AGE are three different variables)\n",
    "- Can be any (reasonable) length\n",
    "- There are some reserved words which you cannot use as a variable name because Python uses them for other things."
   ]
  },
  {
   "cell_type": "code",
   "execution_count": 14,
   "metadata": {},
   "outputs": [
    {
     "name": "stdout",
     "output_type": "stream",
     "text": [
      "HI hi\n"
     ]
    }
   ],
   "source": [
    "A = 'HI'\n",
    "a = 'hi'\n",
    "print(A, a)"
   ]
  },
  {
   "cell_type": "code",
   "execution_count": 19,
   "metadata": {},
   "outputs": [
    {
     "ename": "SyntaxError",
     "evalue": "invalid syntax (<ipython-input-19-63c882b50338>, line 3)",
     "output_type": "error",
     "traceback": [
      "\u001b[0;36m  File \u001b[0;32m\"<ipython-input-19-63c882b50338>\"\u001b[0;36m, line \u001b[0;32m3\u001b[0m\n\u001b[0;31m    0qw = 'NcU'\u001b[0m\n\u001b[0m     ^\u001b[0m\n\u001b[0;31mSyntaxError\u001b[0m\u001b[0;31m:\u001b[0m invalid syntax\n"
     ]
    }
   ],
   "source": [
    "A001 = 'ncu'\n",
    "_001 = 'NCU'\n",
    "0qw = 'NcU'"
   ]
  },
  {
   "cell_type": "code",
   "execution_count": 18,
   "metadata": {},
   "outputs": [
    {
     "ename": "SyntaxError",
     "evalue": "cannot assign to False (<ipython-input-18-e6792070f5ad>, line 1)",
     "output_type": "error",
     "traceback": [
      "\u001b[0;36m  File \u001b[0;32m\"<ipython-input-18-e6792070f5ad>\"\u001b[0;36m, line \u001b[0;32m1\u001b[0m\n\u001b[0;31m    False = 'hi'\u001b[0m\n\u001b[0m    ^\u001b[0m\n\u001b[0;31mSyntaxError\u001b[0m\u001b[0;31m:\u001b[0m cannot assign to False\n"
     ]
    }
   ],
   "source": [
    "False = 'hi'"
   ]
  },
  {
   "cell_type": "markdown",
   "metadata": {
    "colab_type": "text",
    "id": "oZFC7t8lYMmI"
   },
   "source": [
    "##### 02 What's your phone number?"
   ]
  },
  {
   "cell_type": "code",
   "execution_count": 27,
   "metadata": {
    "colab": {},
    "colab_type": "code",
    "id": "qhj3A8U7YMmK"
   },
   "outputs": [
    {
     "name": "stdout",
     "output_type": "stream",
     "text": [
      "0912345678\n"
     ]
    }
   ],
   "source": [
    "### input()  ==> will collect the date (user input) in string format\n",
    "# Ask for the user's phone number and print it\n",
    "Number = '0912345678'\n",
    "print(Number)"
   ]
  },
  {
   "cell_type": "code",
   "execution_count": 28,
   "metadata": {
    "colab": {},
    "colab_type": "code",
    "id": "TG24mwLlYMmN"
   },
   "outputs": [
    {
     "name": "stdout",
     "output_type": "stream",
     "text": [
      "What is your phone number1234567890\n",
      "Number 1234567890\n"
     ]
    }
   ],
   "source": [
    "Number = int(input('What is your phone number'))\n",
    "print(\"Number\", Number)"
   ]
  },
  {
   "cell_type": "code",
   "execution_count": 29,
   "metadata": {},
   "outputs": [
    {
     "name": "stdout",
     "output_type": "stream",
     "text": [
      "2469135780\n"
     ]
    }
   ],
   "source": [
    "print(Number*2)"
   ]
  },
  {
   "cell_type": "code",
   "execution_count": 30,
   "metadata": {},
   "outputs": [
    {
     "data": {
      "text/plain": [
       "int"
      ]
     },
     "execution_count": 30,
     "metadata": {},
     "output_type": "execute_result"
    }
   ],
   "source": [
    "type(Number)"
   ]
  },
  {
   "cell_type": "markdown",
   "metadata": {
    "colab_type": "text",
    "id": "8AEkQSTHYMmP"
   },
   "source": [
    "##### 03. Apple Pen"
   ]
  },
  {
   "cell_type": "code",
   "execution_count": 33,
   "metadata": {
    "colab": {},
    "colab_type": "code",
    "id": "udVlpI-QYMmQ",
    "scrolled": true
   },
   "outputs": [
    {
     "name": "stdout",
     "output_type": "stream",
     "text": [
      "NCU's food is very \"GOOD.\"\n"
     ]
    }
   ],
   "source": [
    "# How to print: NCU's food is very \"GOOD.\"\n",
    "print(\"NCU\\'s food is very \\\"GOOD.\\\"\")"
   ]
  },
  {
   "cell_type": "code",
   "execution_count": 41,
   "metadata": {
    "colab": {},
    "colab_type": "code",
    "id": "OCGShDxwYMmS"
   },
   "outputs": [
    {
     "name": "stdout",
     "output_type": "stream",
     "text": [
      "\"\n",
      "\\\n"
     ]
    }
   ],
   "source": [
    "### Escape Character\\\n",
    "# To insert characters that are illegal in a string\n",
    "print('\\\"')\n",
    "print(\"\\\\\")"
   ]
  },
  {
   "cell_type": "code",
   "execution_count": 40,
   "metadata": {},
   "outputs": [
    {
     "name": "stdout",
     "output_type": "stream",
     "text": [
      "aaa\n",
      "aaa\taaa\n"
     ]
    }
   ],
   "source": [
    "print(\"aaa\\naaa\\taaa\")"
   ]
  },
  {
   "cell_type": "code",
   "execution_count": 39,
   "metadata": {},
   "outputs": [
    {
     "name": "stdout",
     "output_type": "stream",
     "text": [
      "aaa\taaa\taaa\n",
      "aa\taaa\taaa\n"
     ]
    }
   ],
   "source": [
    "print(\"aaa\\taaa\\taaa\")\n",
    "print(\"aa\\taaa\\taaa\")"
   ]
  },
  {
   "cell_type": "markdown",
   "metadata": {
    "colab_type": "text",
    "id": "M-ev7bXiYMmU"
   },
   "source": [
    "##### 04 NOT_A_LIST"
   ]
  },
  {
   "cell_type": "code",
   "execution_count": 42,
   "metadata": {
    "colab": {},
    "colab_type": "code",
    "id": "wU1mmMjLYMmV"
   },
   "outputs": [
    {
     "name": "stdout",
     "output_type": "stream",
     "text": [
      "NUC's Apple Pen\n"
     ]
    }
   ],
   "source": [
    "S = \"NUC's Apple Pen\"\n",
    "print(S)"
   ]
  },
  {
   "cell_type": "code",
   "execution_count": 43,
   "metadata": {
    "colab": {},
    "colab_type": "code",
    "id": "T3XXaqutYMmZ"
   },
   "outputs": [
    {
     "name": "stdout",
     "output_type": "stream",
     "text": [
      "P\n",
      "NCU's\n",
      "Apple\n",
      "Apple Pen\n",
      "NCU's Apple\n",
      "Pen\n"
     ]
    }
   ],
   "source": [
    "### Slicing\n",
    "# You can return a range of characters by using the slice syntax.\n",
    "# Specify the start index and the end index, separated by a colon, to return a part of the string\n",
    "\n",
    "S = \"NCU's Apple Pen\"\n",
    "print(S[12]) \n",
    "print(S[0:5]) \n",
    "print(S[6:11]) \n",
    "print(S[6:]) \n",
    "print(S[:11]) # first 11 \n",
    "print(S[-3:]) # last 3負數就是從尾巴開始算"
   ]
  },
  {
   "cell_type": "markdown",
   "metadata": {
    "colab_type": "text",
    "id": "5kmvwiAgYMmd"
   },
   "source": [
    "##### 05 Variable\n",
    "Variables can store data of different types, and different types can do different things.\n",
    "\n",
    "- string ==>  \n",
    " - \"Hello\"\n",
    "- integer ==>  \n",
    " - 123\n",
    "- float ==>  \n",
    " - 3.1415\n",
    "- boolean ==> \n",
    " - True/False"
   ]
  },
  {
   "cell_type": "code",
   "execution_count": 50,
   "metadata": {
    "colab": {},
    "colab_type": "code",
    "id": "u5WxFunyYMme"
   },
   "outputs": [
    {
     "name": "stdout",
     "output_type": "stream",
     "text": [
      "hellohellohello\n",
      "hello\n",
      "4.140000000000001\n"
     ]
    }
   ],
   "source": [
    "# Python has no command for declaring a variable.\n",
    "\n",
    "SS = \"hello\"\n",
    "II = 3\n",
    "FF = 3.14\n",
    "BB = True\n",
    "print(SS*II)\n",
    "print(SS*BB)\n",
    "print(BB+FF)"
   ]
  },
  {
   "cell_type": "code",
   "execution_count": 47,
   "metadata": {
    "colab": {},
    "colab_type": "code",
    "id": "9f8W4hnCYMmg"
   },
   "outputs": [
    {
     "name": "stdout",
     "output_type": "stream",
     "text": [
      "<class 'bool'>\n",
      "<class 'float'>\n",
      "<class 'str'>\n"
     ]
    }
   ],
   "source": [
    "# You can get the data type of any object by using the ____ function:\n",
    "print(type(BB))\n",
    "print(type(FF))\n",
    "print(type(SS*II))"
   ]
  },
  {
   "cell_type": "markdown",
   "metadata": {
    "colab_type": "text",
    "id": "kCIRjQoYYMmm"
   },
   "source": [
    "##### 06 +-*/"
   ]
  },
  {
   "cell_type": "code",
   "execution_count": 52,
   "metadata": {
    "colab": {},
    "colab_type": "code",
    "id": "AyqK5GAGYMmm"
   },
   "outputs": [
    {
     "name": "stdout",
     "output_type": "stream",
     "text": [
      "14\n",
      "10\n",
      "24\n",
      "6.0\n"
     ]
    }
   ],
   "source": [
    "### Python Arithmetic Operators 算術運算式   \n",
    "# Arithmetic operators are used with numeric values to perform common mathematical operations\n",
    "# Addition, Subtraction, Multiplication, Division\n",
    "A = 12\n",
    "B =2\n",
    "print(A+B)\n",
    "print(A-B)\n",
    "print(A*B)\n",
    "print(A/B)"
   ]
  },
  {
   "cell_type": "code",
   "execution_count": 54,
   "metadata": {
    "colab": {},
    "colab_type": "code",
    "id": "T2IHeE96YMmq",
    "scrolled": true
   },
   "outputs": [
    {
     "name": "stdout",
     "output_type": "stream",
     "text": [
      "0\n",
      "6\n",
      "144\n"
     ]
    }
   ],
   "source": [
    "# Modulus, Floor division, Exponentiation\n",
    "print(A%B)\n",
    "print(A//B)\n",
    "print(A**B)"
   ]
  },
  {
   "cell_type": "markdown",
   "metadata": {
    "colab_type": "text",
    "id": "JLRLcjTyYMms"
   },
   "source": [
    "##### 07 >=<"
   ]
  },
  {
   "cell_type": "code",
   "execution_count": 57,
   "metadata": {
    "colab": {},
    "colab_type": "code",
    "id": "KtO_lfn0YMms"
   },
   "outputs": [
    {
     "name": "stdout",
     "output_type": "stream",
     "text": [
      "False\n",
      "True\n",
      "False\n",
      "True\n"
     ]
    }
   ],
   "source": [
    "### Comparison Operators 關係運算式\n",
    "# Comparison operators are used to compare two values, return _____\n",
    "# Equal Not equal\n",
    "# Greater than\n",
    "# Less than \n",
    "# Greater than or equal to\n",
    "# Less than or equal to\n",
    "AAA = 20\n",
    "BBB = 21\n",
    "print(AAA == BBB)\n",
    "print(AAA != BBB)\n",
    "print(AAA >= BBB)\n",
    "print(AAA <= BBB)"
   ]
  },
  {
   "cell_type": "code",
   "execution_count": 58,
   "metadata": {
    "colab": {},
    "colab_type": "code",
    "id": "UeWsp61LYMmu"
   },
   "outputs": [
    {
     "data": {
      "text/plain": [
       "True"
      ]
     },
     "execution_count": 58,
     "metadata": {},
     "output_type": "execute_result"
    }
   ],
   "source": [
    "A = 123\n",
    "A == 123"
   ]
  },
  {
   "cell_type": "markdown",
   "metadata": {
    "colab_type": "text",
    "id": "v4SbD3ciYMm0"
   },
   "source": [
    "##### 08 TrueFalseTrue"
   ]
  },
  {
   "cell_type": "code",
   "execution_count": 60,
   "metadata": {
    "colab": {},
    "colab_type": "code",
    "id": "ukXv_n6qYMm0"
   },
   "outputs": [
    {
     "name": "stdout",
     "output_type": "stream",
     "text": [
      "True\n",
      "False\n",
      "False\n",
      "True\tFalse\tFalse\n"
     ]
    }
   ],
   "source": [
    "### Logical Operators 邏輯運算式  \n",
    "# and => Returns True if both statements are true\n",
    "a = True and True\n",
    "b = True and False\n",
    "c = False and False\n",
    "print(a,b,c, sep = \"\\n\")\n",
    "print(a,b,c, sep = \"\\t\")"
   ]
  },
  {
   "cell_type": "code",
   "execution_count": null,
   "metadata": {
    "colab": {},
    "colab_type": "code",
    "id": "-j0P8r3-YMm5"
   },
   "outputs": [],
   "source": [
    "# or => Returns True if one of the statements is true\n",
    "d = True or True\n",
    "e = True or False\n",
    "f = False or False\n",
    "print(d,e,f, sep = \"\\n\")"
   ]
  },
  {
   "cell_type": "code",
   "execution_count": null,
   "metadata": {
    "colab": {},
    "colab_type": "code",
    "id": "Dr4QKkdTYMm6"
   },
   "outputs": [],
   "source": [
    "# not => Reverse the result, returns False if the result is true\n",
    "g = not False\n",
    "print(g)"
   ]
  },
  {
   "cell_type": "code",
   "execution_count": null,
   "metadata": {
    "colab": {},
    "colab_type": "code",
    "id": "A8DIv5IhaG4R"
   },
   "outputs": [],
   "source": []
  },
  {
   "cell_type": "markdown",
   "metadata": {
    "colab_type": "text",
    "id": "1mE4fcaLYMm8"
   },
   "source": [
    "##### 09 whle it's true"
   ]
  },
  {
   "cell_type": "code",
   "execution_count": null,
   "metadata": {
    "colab": {},
    "colab_type": "code",
    "id": "vW8QN2FQYMm8"
   },
   "outputs": [],
   "source": [
    "### while condition: \n",
    "# With the while loop we can execute a set of statements as long as a condition is true\n"
   ]
  },
  {
   "cell_type": "code",
   "execution_count": null,
   "metadata": {},
   "outputs": [],
   "source": [
    "# Print i as long as i is less than 6"
   ]
  },
  {
   "cell_type": "code",
   "execution_count": null,
   "metadata": {},
   "outputs": [],
   "source": []
  },
  {
   "cell_type": "code",
   "execution_count": null,
   "metadata": {},
   "outputs": [],
   "source": []
  },
  {
   "cell_type": "markdown",
   "metadata": {
    "colab_type": "text",
    "id": "DxndxWVqYMm-"
   },
   "source": [
    "##### 10 if you are True"
   ]
  },
  {
   "cell_type": "code",
   "execution_count": null,
   "metadata": {
    "colab": {},
    "colab_type": "code",
    "id": "itDgrJLVYMm-"
   },
   "outputs": [],
   "source": [
    "### if condition:\n",
    "# Python Conditions and If statements\n",
    "# Python supports the usual logical conditions from mathematics"
   ]
  },
  {
   "cell_type": "code",
   "execution_count": null,
   "metadata": {
    "colab": {},
    "colab_type": "code",
    "id": "htBUxhRhYMnA"
   },
   "outputs": [],
   "source": [
    "\n"
   ]
  },
  {
   "cell_type": "code",
   "execution_count": null,
   "metadata": {},
   "outputs": [],
   "source": [
    "# if: These conditions can be used in several ways, most commonly in \"if statements.\"\n",
    "# elif: if the previous conditions were not true, then try this condition\n",
    "# else: catches anything which isn't caught by the preceding conditions."
   ]
  },
  {
   "cell_type": "code",
   "execution_count": null,
   "metadata": {},
   "outputs": [],
   "source": []
  },
  {
   "cell_type": "code",
   "execution_count": null,
   "metadata": {
    "colab": {},
    "colab_type": "code",
    "id": "dFmaEnh8YMnB"
   },
   "outputs": [],
   "source": [
    "\n"
   ]
  },
  {
   "cell_type": "code",
   "execution_count": null,
   "metadata": {
    "colab": {},
    "colab_type": "code",
    "id": "46wlOa-_YMnD"
   },
   "outputs": [],
   "source": [
    "age = eval(input(\"How old are you?\")) \n",
    "# The eval() function evaluates the specified expression, if the expression is a legal Python statement, it will be executed.\n",
    "# eval()可以轉型成可比較的數值，不限定整數或浮點數\n",
    "\n"
   ]
  },
  {
   "cell_type": "markdown",
   "metadata": {
    "colab_type": "text",
    "id": "FjK1940hYMnF"
   },
   "source": [
    "#####  11 for it's true"
   ]
  },
  {
   "cell_type": "code",
   "execution_count": null,
   "metadata": {
    "colab": {},
    "colab_type": "code",
    "id": "q7vOqTkiYMnF"
   },
   "outputs": [],
   "source": [
    "### for item in sequence:\n",
    "# A for loop is used for iterating over a sequence (that is either a list, a tuple, a dictionary, a set, or a string)"
   ]
  },
  {
   "cell_type": "code",
   "execution_count": null,
   "metadata": {
    "colab": {},
    "colab_type": "code",
    "id": "oii_yHOPYMnI"
   },
   "outputs": [],
   "source": []
  },
  {
   "cell_type": "code",
   "execution_count": null,
   "metadata": {
    "colab": {},
    "colab_type": "code",
    "id": "NpOQHaF8YMnJ"
   },
   "outputs": [],
   "source": []
  },
  {
   "cell_type": "code",
   "execution_count": null,
   "metadata": {
    "colab": {},
    "colab_type": "code",
    "id": "daCDjqYTYMos"
   },
   "outputs": [],
   "source": []
  }
 ],
 "metadata": {
  "colab": {
   "collapsed_sections": [],
   "name": "【Day01】手把手學會如何撩Python-練習.ipynb",
   "provenance": []
  },
  "kernelspec": {
   "display_name": "Python 3",
   "language": "python",
   "name": "python3"
  },
  "language_info": {
   "codemirror_mode": {
    "name": "ipython",
    "version": 3
   },
   "file_extension": ".py",
   "mimetype": "text/x-python",
   "name": "python",
   "nbconvert_exporter": "python",
   "pygments_lexer": "ipython3",
   "version": "3.8.4"
  }
 },
 "nbformat": 4,
 "nbformat_minor": 1
}
