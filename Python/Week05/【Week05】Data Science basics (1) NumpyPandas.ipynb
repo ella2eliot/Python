{
 "cells": [
  {
   "cell_type": "markdown",
   "metadata": {
    "id": "PI5jd_B7KX53"
   },
   "source": [
    "##### add your name and student ID\n",
    "##### Name: 施盈琪\n",
    "##### ID: 112524031\n"
   ]
  },
  {
   "cell_type": "markdown",
   "metadata": {
    "id": "QYnig7XNLJ-Z"
   },
   "source": [
    "# Why numpy & pandas ?\n",
    "### Fast, flexible, and expressive\n",
    "- an efficient multi-dimensional container of generic data\n",
    "### Python is increasingly being used as a scientific language. \n",
    "- Matrix and vector manipulations are extremely important for scientific computations. \n",
    "- Both NumPy and Pandas have emerged to be essential libraries for any scientific computation,\n"
   ]
  },
  {
   "cell_type": "markdown",
   "metadata": {},
   "source": [
    "##### An Example:"
   ]
  },
  {
   "cell_type": "code",
   "execution_count": 1,
   "metadata": {},
   "outputs": [
    {
     "data": {
      "text/plain": [
       "list"
      ]
     },
     "execution_count": 1,
     "metadata": {},
     "output_type": "execute_result"
    }
   ],
   "source": [
    "# Creat two lists with fiev students' height and weight \n",
    "# What is BMI for the five students?\n",
    "Height = [159,180,166,178,177]\n",
    "Weight = [60,80,70,68,70]\n",
    "type(Height)"
   ]
  },
  {
   "cell_type": "code",
   "execution_count": 3,
   "metadata": {},
   "outputs": [
    {
     "data": {
      "text/plain": [
       "[1.59, 1.8, 1.66, 1.78, 1.77]"
      ]
     },
     "execution_count": 3,
     "metadata": {},
     "output_type": "execute_result"
    }
   ],
   "source": [
    "H_meter = []\n",
    "for i in Height:\n",
    "    H_meter.append(i/100)\n",
    "H_meter"
   ]
  },
  {
   "cell_type": "code",
   "execution_count": 5,
   "metadata": {},
   "outputs": [
    {
     "data": {
      "text/plain": [
       "numpy.ndarray"
      ]
     },
     "execution_count": 5,
     "metadata": {},
     "output_type": "execute_result"
    }
   ],
   "source": [
    "# why we need array?\n",
    "import numpy as np\n",
    "Harr = np.array([159, 180, 166, 178, 177])\n",
    "Warr = np.array([60, 80, 70, 68, 70])\n",
    "type(Harr)"
   ]
  },
  {
   "cell_type": "code",
   "execution_count": 8,
   "metadata": {},
   "outputs": [
    {
     "data": {
      "text/plain": [
       "array([1.59, 1.8 , 1.66, 1.78, 1.77])"
      ]
     },
     "execution_count": 8,
     "metadata": {},
     "output_type": "execute_result"
    }
   ],
   "source": [
    "Harr/100"
   ]
  },
  {
   "cell_type": "code",
   "execution_count": 9,
   "metadata": {},
   "outputs": [
    {
     "data": {
      "text/plain": [
       "array([23.7332384 , 24.69135802, 25.40281608, 21.46193662, 22.34351559])"
      ]
     },
     "execution_count": 9,
     "metadata": {},
     "output_type": "execute_result"
    }
   ],
   "source": [
    "Warr/(Harr/100)**2"
   ]
  },
  {
   "cell_type": "markdown",
   "metadata": {
    "id": "BNM0E_m1JxQ_"
   },
   "source": [
    "### Numpy \n",
    "##### NumPy, which stands for Numerical Python, is a library consisting of multidimensional array objects and a collection of routines for processing those arrays. NumPy is the fundamental package for scientific computing with Python\n",
    "\n",
    "[連結](https://docs.scipy.org/doc/numpy/reference/routines.html)"
   ]
  },
  {
   "cell_type": "code",
   "execution_count": 13,
   "metadata": {
    "id": "WrEngNcNJxRA"
   },
   "outputs": [
    {
     "name": "stdout",
     "output_type": "stream",
     "text": [
      "['1' '1.12' '555' 'ncu']\n",
      "[  1.     1.12 555.  ]\n"
     ]
    }
   ],
   "source": [
    "# Array 之中的每一個元素都必須是相同型態\n",
    "# NumPy is used to work with arrays with the same datatype elements.\n",
    "import numpy as np\n",
    "print(np.array([1, 1.12, 555, \"ncu\"])) #all to str\n",
    "print(np.array([1, 1.12, 555])) #all to float"
   ]
  },
  {
   "cell_type": "code",
   "execution_count": 17,
   "metadata": {
    "id": "bo9MqZrFJxRE"
   },
   "outputs": [
    {
     "name": "stdout",
     "output_type": "stream",
     "text": [
      "[[1 2 3]\n",
      " [4 5 6]]\n",
      "維度Number of Dimensions: 2\n",
      "行列Shape of arrays: (2, 3)\n",
      "個數Number of items in arrays: 6\n"
     ]
    }
   ],
   "source": [
    "import numpy as np \n",
    "# 使用numpy 採用np簡寫\n",
    "# NumPy package can be referred to as np instead of numpy.\n",
    "\n",
    "array1 = np.array([1,2,3])  #一維的array One Dimension Arrays\n",
    "array2 = np.array([[1,2,3],[4,5,6]])  #二維的array Two Dimension Arrays\n",
    "\n",
    "print(array2)\n",
    "print('維度Number of Dimensions:',array2.ndim) \n",
    "print('行列Shape of arrays:',array2.shape) \n",
    "print('個數Number of items in arrays:',array2.size) \n"
   ]
  },
  {
   "cell_type": "code",
   "execution_count": 18,
   "metadata": {
    "id": "Da1VnJxIJxRG"
   },
   "outputs": [
    {
     "name": "stdout",
     "output_type": "stream",
     "text": [
      "[ 3  6  9 12 15 18]\n",
      "[0 1 2 3 4 5]\n",
      "[0. 0. 0. 0. 0. 0.]\n",
      "[1 1 1 1 1 1]\n",
      "[0.09491736 0.45131427 0.91181805 0.96387691 0.44211486 0.48252374]\n",
      "[ -3  -5  -7  -9 -11 -13]\n",
      "[False False False False  True  True]\n",
      "[False False False  True False False]\n"
     ]
    }
   ],
   "source": [
    "#One Dimension Arrays\n",
    "import numpy as np\n",
    "a = np.array([3,6,9,12,15,18])\n",
    "b = np.arange(6)  \n",
    "c = np.zeros(6)  \n",
    "d = np.ones(6, dtype = np.int) \n",
    "e = np.random.random(6) #random float from 0 - 1\n",
    "f = b-a\n",
    "\n",
    "print(a,b,c,d,e,f, sep=\"\\n\")\n",
    "print(f<-9)\n",
    "print(f==-9)\n"
   ]
  },
  {
   "cell_type": "code",
   "execution_count": 20,
   "metadata": {
    "id": "U02KKbV1JxRN"
   },
   "outputs": [
    {
     "name": "stdout",
     "output_type": "stream",
     "text": [
      "[[ 3  6  9]\n",
      " [12 15 18]]\n",
      "[[0 1 2]\n",
      " [3 4 5]]\n",
      "[[0. 0. 0.]\n",
      " [0. 0. 0.]]\n",
      "[[1 1 1]\n",
      " [1 1 1]]\n",
      "[[0.0570035  0.18758615 0.55351307]\n",
      " [0.39150355 0.67472512 0.76267643]]\n",
      "63\n",
      "[18 45]\n",
      "[15 21 27]\n"
     ]
    }
   ],
   "source": [
    "#Two Dimension Arrays\n",
    "import numpy as np\n",
    "a=np.array([[3,6,9],[12,15,18]])\n",
    "b=np.arange(6).reshape((2,3))\n",
    "c = np.zeros((2, 3))\n",
    "d = np.ones((2,3), dtype = np.int) \n",
    "e = np.random.random((2,3)) \n",
    "\n",
    "print(a,b,c,d,e, sep=\"\\n\")\n",
    "print(np.sum(a))\n",
    "print(np.sum(a, axis=1))\n",
    "print(np.sum(a, axis=0))"
   ]
  },
  {
   "cell_type": "code",
   "execution_count": 21,
   "metadata": {
    "id": "sXPsJ19uJxRU"
   },
   "outputs": [
    {
     "name": "stdout",
     "output_type": "stream",
     "text": [
      "[[ 2  4  6]\n",
      " [ 8 10 12]]\n",
      "[[0 1 2]\n",
      " [3 4 5]]\n"
     ]
    }
   ],
   "source": [
    "# Opearation of Array加減乘除\n",
    "\n",
    "import numpy as np\n",
    "A=np.array([[2,4,6],[8,10,12]])\n",
    "B=np.arange(6).reshape((2,3)) \n",
    "\n",
    "print(A)\n",
    "print(B)"
   ]
  },
  {
   "cell_type": "code",
   "execution_count": 22,
   "metadata": {
    "id": "6B5mlB5rJxRW"
   },
   "outputs": [
    {
     "name": "stdout",
     "output_type": "stream",
     "text": [
      "[[ 2  5  8]\n",
      " [11 14 17]]\n"
     ]
    }
   ],
   "source": [
    "print(A+B)"
   ]
  },
  {
   "cell_type": "code",
   "execution_count": 25,
   "metadata": {
    "id": "rXo7W0rQJxRf"
   },
   "outputs": [
    {
     "name": "stdout",
     "output_type": "stream",
     "text": [
      "[[1 1 1]\n",
      " [2 2 2]]\n",
      "\n",
      " [1 1 1 2 2 2]\n"
     ]
    }
   ],
   "source": [
    "# array join 合併 v/hstack\n",
    "import numpy as np\n",
    "A = np.array([1,1,1])\n",
    "B = np.array([2,2,2])\n",
    "         \n",
    "print(np.vstack((A,B))) #vertical\n",
    "print('\\n',np.hstack((A,B))) #horizontal"
   ]
  },
  {
   "cell_type": "code",
   "execution_count": 26,
   "metadata": {
    "id": "E8PWozDCJxRi"
   },
   "outputs": [
    {
     "name": "stdout",
     "output_type": "stream",
     "text": [
      "[[ 0  1  2  3]\n",
      " [ 4  5  6  7]\n",
      " [ 8  9 10 11]]\n",
      "[array([[0, 1, 2, 3]]), array([[4, 5, 6, 7]]), array([[ 8,  9, 10, 11]])]\n",
      "[array([[0],\n",
      "       [4],\n",
      "       [8]]), array([[1],\n",
      "       [5],\n",
      "       [9]]), array([[ 2],\n",
      "       [ 6],\n",
      "       [10]]), array([[ 3],\n",
      "       [ 7],\n",
      "       [11]])]\n"
     ]
    }
   ],
   "source": [
    "# array split 分割\n",
    "import numpy as np\n",
    "a = np.arange(12).reshape((3,4))\n",
    "print(a)\n",
    "print(np.vsplit(a,3)) #vertical\n",
    "print(np.hsplit(a,4)) #horizontal"
   ]
  },
  {
   "cell_type": "markdown",
   "metadata": {
    "id": "KsaOMtl1JxSA"
   },
   "source": [
    "##### ex: N-dimensional array"
   ]
  },
  {
   "cell_type": "code",
   "execution_count": 27,
   "metadata": {
    "id": "bwcN5F2QJxSB"
   },
   "outputs": [
    {
     "data": {
      "text/plain": [
       "array([[159, 180, 166, 178, 177],\n",
       "       [ 60,  80,  70,  68,  70]])"
      ]
     },
     "execution_count": 27,
     "metadata": {},
     "output_type": "execute_result"
    }
   ],
   "source": [
    "# creat a 2-d array with height and weight for the five studetnsnp_2d[0]\n",
    "Height = [159,180,166,178,177]\n",
    "Weight = [60,80,70,68,70]\n",
    "np_2d = np.array([[159,180,166,178,177],\n",
    "                  [60,80,70,68,70]])\n",
    "np_2d"
   ]
  },
  {
   "cell_type": "code",
   "execution_count": 29,
   "metadata": {
    "id": "wk1M3jG7JxSE"
   },
   "outputs": [
    {
     "name": "stdout",
     "output_type": "stream",
     "text": [
      "[159 180 166 178 177]\n",
      "[60 80 70 68 70]\n",
      "[60 80]\n",
      "[[166 178 177]\n",
      " [ 70  68  70]]\n"
     ]
    }
   ],
   "source": [
    "# NumPy Array Indexing\n",
    "# how to select ?\n",
    "# All students' height\n",
    "print(np_2d[0])\n",
    "# All students' weight\n",
    "print(np_2d[1])\n",
    "# First and Second students' weight\n",
    "print(np_2d[1][:2])\n",
    "# Last three students's hight and weight\n",
    "print(np_2d[: , -3:])"
   ]
  },
  {
   "cell_type": "code",
   "execution_count": 30,
   "metadata": {
    "id": "GxvVGQRvJxSK"
   },
   "outputs": [
    {
     "name": "stdout",
     "output_type": "stream",
     "text": [
      "172.0\n",
      "177.0\n",
      "[[1.         0.76462126]\n",
      " [0.76462126 1.        ]]\n"
     ]
    }
   ],
   "source": [
    "# Basic Statistics\n",
    "\n",
    "# mean\n",
    "print(np.mean(np_2d[0]))\n",
    "\n",
    "# median\n",
    "print(np.median(np_2d[0]))\n",
    "\n",
    "# correlation\n",
    "print(np.corrcoef(np_2d[0], np_2d[1]))"
   ]
  },
  {
   "cell_type": "code",
   "execution_count": 32,
   "metadata": {
    "id": "Yay1lpfCJxSQ"
   },
   "outputs": [
    {
     "name": "stdout",
     "output_type": "stream",
     "text": [
      "(array([0, 2, 4, 6]),)\n",
      "[1 3 5 7]\n"
     ]
    }
   ],
   "source": [
    "# Searching Arrays\n",
    "# You can search an array for a certain value, \n",
    "# and return the indexes that get a match.\n",
    "\n",
    "import numpy as np\n",
    "arr = np.array([1, 2, 3, 4, 5, 6, 7, 8])\n",
    "x = np.where(arr%2 == 1) #this is index of array\n",
    "\n",
    "print(x)\n",
    "print(arr[x])"
   ]
  },
  {
   "cell_type": "code",
   "execution_count": 33,
   "metadata": {
    "id": "vu6DVsJKJxSU"
   },
   "outputs": [
    {
     "data": {
      "text/plain": [
       "(array([0, 2, 4, 6]),)"
      ]
     },
     "execution_count": 33,
     "metadata": {},
     "output_type": "execute_result"
    }
   ],
   "source": [
    "import numpy as np\n",
    "arr = np.array([1, 2, 3, 4, 5, 6, 7, 8])\n",
    "x = np.where(arr%2 == 1)\n",
    "x"
   ]
  },
  {
   "cell_type": "markdown",
   "metadata": {
    "id": "Q9jaYJ0hJxSb"
   },
   "source": [
    "### Pandas\n",
    "##### Pandas建構於Numpy上，Python做資料分析常⽤的套件\n",
    "- Numpy 是array形式的，沒有欄位名稱或標籤\n",
    "- Pandas 基於Numpy構建的，有列表的標籤。\n",
    "\n",
    "- pandas is an open source, providing high-performance, easy-to-use data structures and data analysis tools for the Python programming language. \n",
    "- Pandas' data analysis and modeling features enable users to carry out their entire data analysis workflow in Python."
   ]
  },
  {
   "cell_type": "markdown",
   "metadata": {
    "id": "b-XUsI6QJxSc"
   },
   "source": [
    "##### Series"
   ]
  },
  {
   "cell_type": "code",
   "execution_count": 20,
   "metadata": {
    "id": "WyXxy5efJxSc"
   },
   "outputs": [
    {
     "name": "stdout",
     "output_type": "stream",
     "text": [
      "   0  1  2\n",
      "0  1  2  3\n",
      "1  4  5  6\n",
      "2  7  8  9\n",
      "\n",
      "     A   B   C\n",
      "x   1   2   3\n",
      "y   4   5   6\n",
      "z   7   8   9\n",
      "w  10  11  12\n",
      "<class 'pandas.core.frame.DataFrame'>\n",
      "Index: 4 entries, x to w\n",
      "Data columns (total 3 columns):\n",
      " #   Column  Non-Null Count  Dtype\n",
      "---  ------  --------------  -----\n",
      " 0   A       4 non-null      int64\n",
      " 1   B       4 non-null      int64\n",
      " 2   C       4 non-null      int64\n",
      "dtypes: int64(3)\n",
      "memory usage: 128.0+ bytes\n",
      "None\n",
      "               A          B          C\n",
      "count   4.000000   4.000000   4.000000\n",
      "mean    5.500000   6.500000   7.500000\n",
      "std     3.872983   3.872983   3.872983\n",
      "min     1.000000   2.000000   3.000000\n",
      "25%     3.250000   4.250000   5.250000\n",
      "50%     5.500000   6.500000   7.500000\n",
      "75%     7.750000   8.750000   9.750000\n",
      "max    10.000000  11.000000  12.000000\n",
      "A    4\n",
      "B    4\n",
      "C    4\n",
      "dtype: int64\n",
      "4\n",
      "(4, 3)\n",
      "12\n",
      "[[1 2 3]\n",
      " [4 5 6]\n",
      " [7 8 9]]\n"
     ]
    }
   ],
   "source": [
    "# Series是有index的一維array\n",
    "# Creating a Series by passing a list of values, letting pandas create a default integer index.\n",
    "\n",
    "import pandas as pd\n",
    "import numpy as np\n",
    "\n",
    "# 建立一個 Series 有整數、字串、NAN、浮點數、布林\n",
    "# Creating a Series with integer, string, NAN, float, bool\n",
    "s = pd.DataFrame([[1,2,3], [4,5,6], [7,8,9]])\n",
    "d = pd.DataFrame([[1,2,3], [4,5,6], [7,8,9], [10,11,12]], columns=['A','B','C'], index=['x','y','z','w'])\n",
    "\n",
    "print(s)\n",
    "print('\\n',d)\n",
    "print(d.info())\n",
    "print(d.describe())\n",
    "print(d.nunique())\n",
    "print(d['A'].nunique())\n",
    "print(d.shape)\n",
    "print(d.size)\n",
    "# 如果是numpy的array呢?\n",
    "# how about array?\n",
    "o = np.array([[1,2,3], [4,5,6], [7,8,9]])\n",
    "print(o)"
   ]
  },
  {
   "cell_type": "markdown",
   "metadata": {
    "id": "gmMtbayaJxSj"
   },
   "source": [
    "##### DataFrame"
   ]
  },
  {
   "cell_type": "code",
   "execution_count": 27,
   "metadata": {
    "id": "vZuygpO8JxSj"
   },
   "outputs": [
    {
     "name": "stdout",
     "output_type": "stream",
     "text": [
      "          0         1         2\n",
      "0  0.568522 -0.730011  0.379070\n",
      "1 -0.147453 -1.044220 -0.137302\n",
      "2 -0.486156 -0.303613 -2.100051\n",
      "3 -0.187966 -0.605882  0.974401\n",
      "4 -0.498383 -0.495307  0.112905\n",
      "5 -0.783428 -0.710102  0.502833\n",
      "6  0.010162 -0.828406  1.256989\n"
     ]
    }
   ],
   "source": [
    "# Create a DataFrame using a NumPy array\n",
    "df = pd.DataFrame(np.random.randn(7,3))\n",
    "print(df)"
   ]
  },
  {
   "cell_type": "code",
   "execution_count": 72,
   "metadata": {
    "id": "TlZ0kXQ8JxSm"
   },
   "outputs": [
    {
     "name": "stdout",
     "output_type": "stream",
     "text": [
      "            Break  Lunch  Dinner\n",
      "2017-08-12     85     95      95\n",
      "2017-08-13     70     65      90\n",
      "2017-08-14     50     90      65\n",
      "2017-08-15     50     80      75\n",
      "2017-08-16     80     60      80\n",
      "2017-08-17     55     95      55\n",
      "2017-08-18     95     80      80\n"
     ]
    }
   ],
   "source": [
    "# Create a DataFrame using a NumPy array, with a datetime index\n",
    "#從0-9隨機選數出21個數字並對這21個數字做運算(乘以5再+50)\n",
    "eat = np.random.randint(10,size=(7,3))*5+50\n",
    "dates = pd.date_range('20170812',periods=7)\n",
    "df0 = pd.DataFrame(eat)\n",
    "#加上欄位 with columns amd index\n",
    "df1 = pd.DataFrame(eat, index=dates, columns=['Break','Lunch','Dinner'])\n",
    "print(df1)"
   ]
  },
  {
   "cell_type": "code",
   "execution_count": 73,
   "metadata": {
    "id": "97vc5jcaJxSp"
   },
   "outputs": [
    {
     "name": "stdout",
     "output_type": "stream",
     "text": [
      "   小數float  整數intger     時間time 類別資料category\n",
      "0      1.0         3 2017-08-12         test\n",
      "1      1.0         3 2017-08-12        train\n",
      "2      1.0         3 2017-08-12         test\n",
      "3      1.0         3 2017-08-12        train\n"
     ]
    }
   ],
   "source": [
    "# Create a DataFrame using a dictionary\n",
    "df2 = pd.DataFrame({'小數float' : pd.Series(1,index=list(range(4)),dtype='float32'),\n",
    "                    '整數intger' : np.array([3] * 4,dtype='int32'),\n",
    "                    '時間time' : pd.Timestamp('20170812'),\n",
    "                    '類別資料category' : pd.Categorical([\"test\",\"train\",\"test\",\"train\"]),                     \n",
    "                   }) \n",
    "#字典的key代表甚麼? What is the key for\n",
    "# key是指columns name\n",
    "# value是指表格中的內容，例如test, train, 3, 1.0, 2017-08-12..\n",
    "print(df2)"
   ]
  },
  {
   "cell_type": "code",
   "execution_count": 74,
   "metadata": {
    "id": "ChIFRg2FJxSr"
   },
   "outputs": [
    {
     "data": {
      "text/html": [
       "<div>\n",
       "<style scoped>\n",
       "    .dataframe tbody tr th:only-of-type {\n",
       "        vertical-align: middle;\n",
       "    }\n",
       "\n",
       "    .dataframe tbody tr th {\n",
       "        vertical-align: top;\n",
       "    }\n",
       "\n",
       "    .dataframe thead th {\n",
       "        text-align: right;\n",
       "    }\n",
       "</style>\n",
       "<table border=\"1\" class=\"dataframe\">\n",
       "  <thead>\n",
       "    <tr style=\"text-align: right;\">\n",
       "      <th></th>\n",
       "      <th>小數float</th>\n",
       "      <th>整數intger</th>\n",
       "      <th>時間time</th>\n",
       "      <th>類別資料category</th>\n",
       "    </tr>\n",
       "  </thead>\n",
       "  <tbody>\n",
       "    <tr>\n",
       "      <th>0</th>\n",
       "      <td>1.0</td>\n",
       "      <td>3</td>\n",
       "      <td>2017-08-12</td>\n",
       "      <td>test</td>\n",
       "    </tr>\n",
       "    <tr>\n",
       "      <th>1</th>\n",
       "      <td>1.0</td>\n",
       "      <td>3</td>\n",
       "      <td>2017-08-12</td>\n",
       "      <td>train</td>\n",
       "    </tr>\n",
       "    <tr>\n",
       "      <th>2</th>\n",
       "      <td>1.0</td>\n",
       "      <td>3</td>\n",
       "      <td>2017-08-12</td>\n",
       "      <td>test</td>\n",
       "    </tr>\n",
       "    <tr>\n",
       "      <th>3</th>\n",
       "      <td>1.0</td>\n",
       "      <td>3</td>\n",
       "      <td>2017-08-12</td>\n",
       "      <td>train</td>\n",
       "    </tr>\n",
       "  </tbody>\n",
       "</table>\n",
       "</div>"
      ],
      "text/plain": [
       "   小數float  整數intger     時間time 類別資料category\n",
       "0      1.0         3 2017-08-12         test\n",
       "1      1.0         3 2017-08-12        train\n",
       "2      1.0         3 2017-08-12         test\n",
       "3      1.0         3 2017-08-12        train"
      ]
     },
     "execution_count": 74,
     "metadata": {},
     "output_type": "execute_result"
    }
   ],
   "source": [
    "df2"
   ]
  },
  {
   "cell_type": "code",
   "execution_count": 75,
   "metadata": {
    "id": "nTL9rSF7JxSu"
   },
   "outputs": [
    {
     "name": "stdout",
     "output_type": "stream",
     "text": [
      "   小數float  整數intger     時間time 類別資料category\n",
      "0      1.0         3 2017-08-12         test\n",
      "1      1.0         3 2017-08-12        train\n",
      "2      1.0         3 2017-08-12         test\n",
      "3      1.0         3 2017-08-12        train\n",
      "小數float                float32\n",
      "整數intger                 int32\n",
      "時間time          datetime64[ns]\n",
      "類別資料category          category\n",
      "dtype: object\n",
      "Int64Index([0, 1, 2, 3], dtype='int64')\n",
      "       小數float  整數intger\n",
      "count      4.0       4.0\n",
      "mean       1.0       3.0\n",
      "std        0.0       0.0\n",
      "min        1.0       3.0\n",
      "25%        1.0       3.0\n",
      "50%        1.0       3.0\n",
      "75%        1.0       3.0\n",
      "max        1.0       3.0\n",
      "                                0                    1                    2  \\\n",
      "小數float                         1                    1                    1   \n",
      "整數intger                        3                    3                    3   \n",
      "時間time        2017-08-12 00:00:00  2017-08-12 00:00:00  2017-08-12 00:00:00   \n",
      "類別資料category                 test                train                 test   \n",
      "\n",
      "                                3  \n",
      "小數float                         1  \n",
      "整數intger                        3  \n",
      "時間time        2017-08-12 00:00:00  \n",
      "類別資料category                train  \n",
      "  類別資料category     時間time  整數intger  小數float\n",
      "0         test 2017-08-12         3      1.0\n",
      "1        train 2017-08-12         3      1.0\n",
      "2         test 2017-08-12         3      1.0\n",
      "3        train 2017-08-12         3      1.0\n",
      "   小數float  整數intger     時間time 類別資料category\n",
      "0      1.0         3 2017-08-12         test\n",
      "2      1.0         3 2017-08-12         test\n",
      "1      1.0         3 2017-08-12        train\n",
      "3      1.0         3 2017-08-12        train\n"
     ]
    }
   ],
   "source": [
    "#DataFrame的屬性\n",
    "print(df2)\n",
    "print(df2.dtypes)\n",
    "print(df2.index) #print(df2.columns), print(df2.values)\n",
    "print(df2.describe()) #有甚麼要注意的呢? 只會對數值做運算敘述\n",
    "\n",
    "print(df2.T)\n",
    "print(df2.sort_index(axis=1, ascending=False))\n",
    "print(df2.sort_values(by='類別資料category'))"
   ]
  },
  {
   "cell_type": "code",
   "execution_count": 76,
   "metadata": {
    "id": "AvSs7E-pJxSx"
   },
   "outputs": [
    {
     "data": {
      "text/html": [
       "<div>\n",
       "<style scoped>\n",
       "    .dataframe tbody tr th:only-of-type {\n",
       "        vertical-align: middle;\n",
       "    }\n",
       "\n",
       "    .dataframe tbody tr th {\n",
       "        vertical-align: top;\n",
       "    }\n",
       "\n",
       "    .dataframe thead th {\n",
       "        text-align: right;\n",
       "    }\n",
       "</style>\n",
       "<table border=\"1\" class=\"dataframe\">\n",
       "  <thead>\n",
       "    <tr style=\"text-align: right;\">\n",
       "      <th></th>\n",
       "      <th>小數float</th>\n",
       "      <th>整數intger</th>\n",
       "      <th>時間time</th>\n",
       "      <th>類別資料category</th>\n",
       "    </tr>\n",
       "  </thead>\n",
       "  <tbody>\n",
       "    <tr>\n",
       "      <th>0</th>\n",
       "      <td>1.0</td>\n",
       "      <td>3</td>\n",
       "      <td>2017-08-12</td>\n",
       "      <td>test</td>\n",
       "    </tr>\n",
       "    <tr>\n",
       "      <th>1</th>\n",
       "      <td>1.0</td>\n",
       "      <td>3</td>\n",
       "      <td>2017-08-12</td>\n",
       "      <td>train</td>\n",
       "    </tr>\n",
       "    <tr>\n",
       "      <th>2</th>\n",
       "      <td>1.0</td>\n",
       "      <td>3</td>\n",
       "      <td>2017-08-12</td>\n",
       "      <td>test</td>\n",
       "    </tr>\n",
       "    <tr>\n",
       "      <th>3</th>\n",
       "      <td>1.0</td>\n",
       "      <td>3</td>\n",
       "      <td>2017-08-12</td>\n",
       "      <td>train</td>\n",
       "    </tr>\n",
       "  </tbody>\n",
       "</table>\n",
       "</div>"
      ],
      "text/plain": [
       "   小數float  整數intger     時間time 類別資料category\n",
       "0      1.0         3 2017-08-12         test\n",
       "1      1.0         3 2017-08-12        train\n",
       "2      1.0         3 2017-08-12         test\n",
       "3      1.0         3 2017-08-12        train"
      ]
     },
     "execution_count": 76,
     "metadata": {},
     "output_type": "execute_result"
    }
   ],
   "source": [
    "df2"
   ]
  },
  {
   "cell_type": "code",
   "execution_count": 77,
   "metadata": {
    "id": "mUHFR9g5JxS1"
   },
   "outputs": [
    {
     "name": "stdout",
     "output_type": "stream",
     "text": [
      "小數float                float32\n",
      "整數intger                 int32\n",
      "時間time          datetime64[ns]\n",
      "類別資料category          category\n",
      "dtype: object\n"
     ]
    }
   ],
   "source": [
    "print(df2.dtypes)"
   ]
  },
  {
   "cell_type": "code",
   "execution_count": 78,
   "metadata": {
    "id": "gY9woCISJxS4"
   },
   "outputs": [
    {
     "name": "stdout",
     "output_type": "stream",
     "text": [
      "Int64Index([0, 1, 2, 3], dtype='int64')\n"
     ]
    }
   ],
   "source": [
    "print(df2.index) #print(df2.columns), print(df2.values)"
   ]
  },
  {
   "cell_type": "code",
   "execution_count": 79,
   "metadata": {
    "id": "_K_G7GJLJxS6"
   },
   "outputs": [
    {
     "name": "stdout",
     "output_type": "stream",
     "text": [
      "        小數float  整數intger               時間time 類別資料category\n",
      "count       4.0       4.0                    4            4\n",
      "unique      NaN       NaN                    1            2\n",
      "top         NaN       NaN  2017-08-12 00:00:00        train\n",
      "freq        NaN       NaN                    4            2\n",
      "first       NaN       NaN  2017-08-12 00:00:00          NaN\n",
      "last        NaN       NaN  2017-08-12 00:00:00          NaN\n",
      "mean        1.0       3.0                  NaN          NaN\n",
      "std         0.0       0.0                  NaN          NaN\n",
      "min         1.0       3.0                  NaN          NaN\n",
      "25%         1.0       3.0                  NaN          NaN\n",
      "50%         1.0       3.0                  NaN          NaN\n",
      "75%         1.0       3.0                  NaN          NaN\n",
      "max         1.0       3.0                  NaN          NaN\n"
     ]
    },
    {
     "name": "stderr",
     "output_type": "stream",
     "text": [
      "<ipython-input-79-c78d8ec41c2f>:2: FutureWarning: Treating datetime data as categorical rather than numeric in `.describe` is deprecated and will be removed in a future version of pandas. Specify `datetime_is_numeric=True` to silence this warning and adopt the future behavior now.\n",
      "  print(df2.describe(include='all')) #有甚麼要注意的呢? Notice that...\n"
     ]
    }
   ],
   "source": [
    "#只會對數值做運算敘述\n",
    "print(df2.describe(include='all')) #有甚麼要注意的呢? Notice that..."
   ]
  },
  {
   "cell_type": "code",
   "execution_count": 80,
   "metadata": {
    "id": "1UH0LSCyJxS8"
   },
   "outputs": [
    {
     "data": {
      "text/html": [
       "<div>\n",
       "<style scoped>\n",
       "    .dataframe tbody tr th:only-of-type {\n",
       "        vertical-align: middle;\n",
       "    }\n",
       "\n",
       "    .dataframe tbody tr th {\n",
       "        vertical-align: top;\n",
       "    }\n",
       "\n",
       "    .dataframe thead th {\n",
       "        text-align: right;\n",
       "    }\n",
       "</style>\n",
       "<table border=\"1\" class=\"dataframe\">\n",
       "  <thead>\n",
       "    <tr style=\"text-align: right;\">\n",
       "      <th></th>\n",
       "      <th>0</th>\n",
       "      <th>1</th>\n",
       "      <th>2</th>\n",
       "      <th>3</th>\n",
       "    </tr>\n",
       "  </thead>\n",
       "  <tbody>\n",
       "    <tr>\n",
       "      <th>小數float</th>\n",
       "      <td>1</td>\n",
       "      <td>1</td>\n",
       "      <td>1</td>\n",
       "      <td>1</td>\n",
       "    </tr>\n",
       "    <tr>\n",
       "      <th>整數intger</th>\n",
       "      <td>3</td>\n",
       "      <td>3</td>\n",
       "      <td>3</td>\n",
       "      <td>3</td>\n",
       "    </tr>\n",
       "    <tr>\n",
       "      <th>時間time</th>\n",
       "      <td>2017-08-12 00:00:00</td>\n",
       "      <td>2017-08-12 00:00:00</td>\n",
       "      <td>2017-08-12 00:00:00</td>\n",
       "      <td>2017-08-12 00:00:00</td>\n",
       "    </tr>\n",
       "    <tr>\n",
       "      <th>類別資料category</th>\n",
       "      <td>test</td>\n",
       "      <td>train</td>\n",
       "      <td>test</td>\n",
       "      <td>train</td>\n",
       "    </tr>\n",
       "  </tbody>\n",
       "</table>\n",
       "</div>"
      ],
      "text/plain": [
       "                                0                    1                    2  \\\n",
       "小數float                         1                    1                    1   \n",
       "整數intger                        3                    3                    3   \n",
       "時間time        2017-08-12 00:00:00  2017-08-12 00:00:00  2017-08-12 00:00:00   \n",
       "類別資料category                 test                train                 test   \n",
       "\n",
       "                                3  \n",
       "小數float                         1  \n",
       "整數intger                        3  \n",
       "時間time        2017-08-12 00:00:00  \n",
       "類別資料category                train  "
      ]
     },
     "execution_count": 80,
     "metadata": {},
     "output_type": "execute_result"
    }
   ],
   "source": [
    "df2.T"
   ]
  },
  {
   "cell_type": "code",
   "execution_count": 81,
   "metadata": {
    "id": "GfGGYmreJxTB"
   },
   "outputs": [
    {
     "data": {
      "text/html": [
       "<div>\n",
       "<style scoped>\n",
       "    .dataframe tbody tr th:only-of-type {\n",
       "        vertical-align: middle;\n",
       "    }\n",
       "\n",
       "    .dataframe tbody tr th {\n",
       "        vertical-align: top;\n",
       "    }\n",
       "\n",
       "    .dataframe thead th {\n",
       "        text-align: right;\n",
       "    }\n",
       "</style>\n",
       "<table border=\"1\" class=\"dataframe\">\n",
       "  <thead>\n",
       "    <tr style=\"text-align: right;\">\n",
       "      <th></th>\n",
       "      <th>小數float</th>\n",
       "      <th>整數intger</th>\n",
       "      <th>時間time</th>\n",
       "      <th>類別資料category</th>\n",
       "    </tr>\n",
       "  </thead>\n",
       "  <tbody>\n",
       "    <tr>\n",
       "      <th>3</th>\n",
       "      <td>1.0</td>\n",
       "      <td>3</td>\n",
       "      <td>2017-08-12</td>\n",
       "      <td>train</td>\n",
       "    </tr>\n",
       "    <tr>\n",
       "      <th>2</th>\n",
       "      <td>1.0</td>\n",
       "      <td>3</td>\n",
       "      <td>2017-08-12</td>\n",
       "      <td>test</td>\n",
       "    </tr>\n",
       "    <tr>\n",
       "      <th>1</th>\n",
       "      <td>1.0</td>\n",
       "      <td>3</td>\n",
       "      <td>2017-08-12</td>\n",
       "      <td>train</td>\n",
       "    </tr>\n",
       "    <tr>\n",
       "      <th>0</th>\n",
       "      <td>1.0</td>\n",
       "      <td>3</td>\n",
       "      <td>2017-08-12</td>\n",
       "      <td>test</td>\n",
       "    </tr>\n",
       "  </tbody>\n",
       "</table>\n",
       "</div>"
      ],
      "text/plain": [
       "   小數float  整數intger     時間time 類別資料category\n",
       "3      1.0         3 2017-08-12        train\n",
       "2      1.0         3 2017-08-12         test\n",
       "1      1.0         3 2017-08-12        train\n",
       "0      1.0         3 2017-08-12         test"
      ]
     },
     "execution_count": 81,
     "metadata": {},
     "output_type": "execute_result"
    }
   ],
   "source": [
    "df2.sort_index(axis=0, ascending=False)"
   ]
  },
  {
   "cell_type": "code",
   "execution_count": 82,
   "metadata": {
    "id": "nU-bUy6tJxTE"
   },
   "outputs": [
    {
     "data": {
      "text/html": [
       "<div>\n",
       "<style scoped>\n",
       "    .dataframe tbody tr th:only-of-type {\n",
       "        vertical-align: middle;\n",
       "    }\n",
       "\n",
       "    .dataframe tbody tr th {\n",
       "        vertical-align: top;\n",
       "    }\n",
       "\n",
       "    .dataframe thead th {\n",
       "        text-align: right;\n",
       "    }\n",
       "</style>\n",
       "<table border=\"1\" class=\"dataframe\">\n",
       "  <thead>\n",
       "    <tr style=\"text-align: right;\">\n",
       "      <th></th>\n",
       "      <th>小數float</th>\n",
       "      <th>整數intger</th>\n",
       "      <th>時間time</th>\n",
       "      <th>類別資料category</th>\n",
       "    </tr>\n",
       "  </thead>\n",
       "  <tbody>\n",
       "    <tr>\n",
       "      <th>0</th>\n",
       "      <td>1.0</td>\n",
       "      <td>3</td>\n",
       "      <td>2017-08-12</td>\n",
       "      <td>test</td>\n",
       "    </tr>\n",
       "    <tr>\n",
       "      <th>2</th>\n",
       "      <td>1.0</td>\n",
       "      <td>3</td>\n",
       "      <td>2017-08-12</td>\n",
       "      <td>test</td>\n",
       "    </tr>\n",
       "    <tr>\n",
       "      <th>1</th>\n",
       "      <td>1.0</td>\n",
       "      <td>3</td>\n",
       "      <td>2017-08-12</td>\n",
       "      <td>train</td>\n",
       "    </tr>\n",
       "    <tr>\n",
       "      <th>3</th>\n",
       "      <td>1.0</td>\n",
       "      <td>3</td>\n",
       "      <td>2017-08-12</td>\n",
       "      <td>train</td>\n",
       "    </tr>\n",
       "  </tbody>\n",
       "</table>\n",
       "</div>"
      ],
      "text/plain": [
       "   小數float  整數intger     時間time 類別資料category\n",
       "0      1.0         3 2017-08-12         test\n",
       "2      1.0         3 2017-08-12         test\n",
       "1      1.0         3 2017-08-12        train\n",
       "3      1.0         3 2017-08-12        train"
      ]
     },
     "execution_count": 82,
     "metadata": {},
     "output_type": "execute_result"
    }
   ],
   "source": [
    "df2.sort_values(by='類別資料category')"
   ]
  },
  {
   "cell_type": "markdown",
   "metadata": {},
   "source": [
    "##### Viewing and selecting data"
   ]
  },
  {
   "cell_type": "code",
   "execution_count": 83,
   "metadata": {
    "scrolled": true
   },
   "outputs": [
    {
     "data": {
      "text/html": [
       "<div>\n",
       "<style scoped>\n",
       "    .dataframe tbody tr th:only-of-type {\n",
       "        vertical-align: middle;\n",
       "    }\n",
       "\n",
       "    .dataframe tbody tr th {\n",
       "        vertical-align: top;\n",
       "    }\n",
       "\n",
       "    .dataframe thead th {\n",
       "        text-align: right;\n",
       "    }\n",
       "</style>\n",
       "<table border=\"1\" class=\"dataframe\">\n",
       "  <thead>\n",
       "    <tr style=\"text-align: right;\">\n",
       "      <th></th>\n",
       "      <th>Break</th>\n",
       "      <th>Lunch</th>\n",
       "      <th>Dinner</th>\n",
       "    </tr>\n",
       "  </thead>\n",
       "  <tbody>\n",
       "    <tr>\n",
       "      <th>2017-08-12</th>\n",
       "      <td>85</td>\n",
       "      <td>95</td>\n",
       "      <td>95</td>\n",
       "    </tr>\n",
       "    <tr>\n",
       "      <th>2017-08-13</th>\n",
       "      <td>70</td>\n",
       "      <td>65</td>\n",
       "      <td>90</td>\n",
       "    </tr>\n",
       "    <tr>\n",
       "      <th>2017-08-14</th>\n",
       "      <td>50</td>\n",
       "      <td>90</td>\n",
       "      <td>65</td>\n",
       "    </tr>\n",
       "    <tr>\n",
       "      <th>2017-08-15</th>\n",
       "      <td>50</td>\n",
       "      <td>80</td>\n",
       "      <td>75</td>\n",
       "    </tr>\n",
       "    <tr>\n",
       "      <th>2017-08-16</th>\n",
       "      <td>80</td>\n",
       "      <td>60</td>\n",
       "      <td>80</td>\n",
       "    </tr>\n",
       "    <tr>\n",
       "      <th>2017-08-17</th>\n",
       "      <td>55</td>\n",
       "      <td>95</td>\n",
       "      <td>55</td>\n",
       "    </tr>\n",
       "    <tr>\n",
       "      <th>2017-08-18</th>\n",
       "      <td>95</td>\n",
       "      <td>80</td>\n",
       "      <td>80</td>\n",
       "    </tr>\n",
       "  </tbody>\n",
       "</table>\n",
       "</div>"
      ],
      "text/plain": [
       "            Break  Lunch  Dinner\n",
       "2017-08-12     85     95      95\n",
       "2017-08-13     70     65      90\n",
       "2017-08-14     50     90      65\n",
       "2017-08-15     50     80      75\n",
       "2017-08-16     80     60      80\n",
       "2017-08-17     55     95      55\n",
       "2017-08-18     95     80      80"
      ]
     },
     "execution_count": 83,
     "metadata": {},
     "output_type": "execute_result"
    }
   ],
   "source": [
    "df1"
   ]
  },
  {
   "cell_type": "code",
   "execution_count": 84,
   "metadata": {},
   "outputs": [],
   "source": [
    "# View the top and bottom rows of a data frame:"
   ]
  },
  {
   "cell_type": "code",
   "execution_count": 85,
   "metadata": {},
   "outputs": [
    {
     "data": {
      "text/html": [
       "<div>\n",
       "<style scoped>\n",
       "    .dataframe tbody tr th:only-of-type {\n",
       "        vertical-align: middle;\n",
       "    }\n",
       "\n",
       "    .dataframe tbody tr th {\n",
       "        vertical-align: top;\n",
       "    }\n",
       "\n",
       "    .dataframe thead th {\n",
       "        text-align: right;\n",
       "    }\n",
       "</style>\n",
       "<table border=\"1\" class=\"dataframe\">\n",
       "  <thead>\n",
       "    <tr style=\"text-align: right;\">\n",
       "      <th></th>\n",
       "      <th>Break</th>\n",
       "      <th>Lunch</th>\n",
       "      <th>Dinner</th>\n",
       "    </tr>\n",
       "  </thead>\n",
       "  <tbody>\n",
       "    <tr>\n",
       "      <th>2017-08-12</th>\n",
       "      <td>85</td>\n",
       "      <td>95</td>\n",
       "      <td>95</td>\n",
       "    </tr>\n",
       "    <tr>\n",
       "      <th>2017-08-13</th>\n",
       "      <td>70</td>\n",
       "      <td>65</td>\n",
       "      <td>90</td>\n",
       "    </tr>\n",
       "    <tr>\n",
       "      <th>2017-08-14</th>\n",
       "      <td>50</td>\n",
       "      <td>90</td>\n",
       "      <td>65</td>\n",
       "    </tr>\n",
       "  </tbody>\n",
       "</table>\n",
       "</div>"
      ],
      "text/plain": [
       "            Break  Lunch  Dinner\n",
       "2017-08-12     85     95      95\n",
       "2017-08-13     70     65      90\n",
       "2017-08-14     50     90      65"
      ]
     },
     "execution_count": 85,
     "metadata": {},
     "output_type": "execute_result"
    }
   ],
   "source": [
    "df1.head(3)"
   ]
  },
  {
   "cell_type": "code",
   "execution_count": 86,
   "metadata": {},
   "outputs": [
    {
     "data": {
      "text/html": [
       "<div>\n",
       "<style scoped>\n",
       "    .dataframe tbody tr th:only-of-type {\n",
       "        vertical-align: middle;\n",
       "    }\n",
       "\n",
       "    .dataframe tbody tr th {\n",
       "        vertical-align: top;\n",
       "    }\n",
       "\n",
       "    .dataframe thead th {\n",
       "        text-align: right;\n",
       "    }\n",
       "</style>\n",
       "<table border=\"1\" class=\"dataframe\">\n",
       "  <thead>\n",
       "    <tr style=\"text-align: right;\">\n",
       "      <th></th>\n",
       "      <th>Break</th>\n",
       "      <th>Lunch</th>\n",
       "      <th>Dinner</th>\n",
       "    </tr>\n",
       "  </thead>\n",
       "  <tbody>\n",
       "    <tr>\n",
       "      <th>2017-08-16</th>\n",
       "      <td>80</td>\n",
       "      <td>60</td>\n",
       "      <td>80</td>\n",
       "    </tr>\n",
       "    <tr>\n",
       "      <th>2017-08-17</th>\n",
       "      <td>55</td>\n",
       "      <td>95</td>\n",
       "      <td>55</td>\n",
       "    </tr>\n",
       "    <tr>\n",
       "      <th>2017-08-18</th>\n",
       "      <td>95</td>\n",
       "      <td>80</td>\n",
       "      <td>80</td>\n",
       "    </tr>\n",
       "  </tbody>\n",
       "</table>\n",
       "</div>"
      ],
      "text/plain": [
       "            Break  Lunch  Dinner\n",
       "2017-08-16     80     60      80\n",
       "2017-08-17     55     95      55\n",
       "2017-08-18     95     80      80"
      ]
     },
     "execution_count": 86,
     "metadata": {},
     "output_type": "execute_result"
    }
   ],
   "source": [
    "df1.tail(3)"
   ]
  },
  {
   "cell_type": "markdown",
   "metadata": {
    "id": "8lq-14DVJxTJ"
   },
   "source": [
    "##### Complete list of Selection with examples:\n",
    "- Selecting a single column\n",
    "- Selection by label\n",
    "- Selection by position"
   ]
  },
  {
   "cell_type": "code",
   "execution_count": 87,
   "metadata": {
    "id": "RLvhiZFUJxTL"
   },
   "outputs": [
    {
     "data": {
      "text/html": [
       "<div>\n",
       "<style scoped>\n",
       "    .dataframe tbody tr th:only-of-type {\n",
       "        vertical-align: middle;\n",
       "    }\n",
       "\n",
       "    .dataframe tbody tr th {\n",
       "        vertical-align: top;\n",
       "    }\n",
       "\n",
       "    .dataframe thead th {\n",
       "        text-align: right;\n",
       "    }\n",
       "</style>\n",
       "<table border=\"1\" class=\"dataframe\">\n",
       "  <thead>\n",
       "    <tr style=\"text-align: right;\">\n",
       "      <th></th>\n",
       "      <th>Break</th>\n",
       "      <th>Lunch</th>\n",
       "      <th>Dinner</th>\n",
       "    </tr>\n",
       "  </thead>\n",
       "  <tbody>\n",
       "    <tr>\n",
       "      <th>2017-08-12</th>\n",
       "      <td>85</td>\n",
       "      <td>95</td>\n",
       "      <td>95</td>\n",
       "    </tr>\n",
       "    <tr>\n",
       "      <th>2017-08-13</th>\n",
       "      <td>70</td>\n",
       "      <td>65</td>\n",
       "      <td>90</td>\n",
       "    </tr>\n",
       "    <tr>\n",
       "      <th>2017-08-14</th>\n",
       "      <td>50</td>\n",
       "      <td>90</td>\n",
       "      <td>65</td>\n",
       "    </tr>\n",
       "    <tr>\n",
       "      <th>2017-08-15</th>\n",
       "      <td>50</td>\n",
       "      <td>80</td>\n",
       "      <td>75</td>\n",
       "    </tr>\n",
       "    <tr>\n",
       "      <th>2017-08-16</th>\n",
       "      <td>80</td>\n",
       "      <td>60</td>\n",
       "      <td>80</td>\n",
       "    </tr>\n",
       "    <tr>\n",
       "      <th>2017-08-17</th>\n",
       "      <td>55</td>\n",
       "      <td>95</td>\n",
       "      <td>55</td>\n",
       "    </tr>\n",
       "    <tr>\n",
       "      <th>2017-08-18</th>\n",
       "      <td>95</td>\n",
       "      <td>80</td>\n",
       "      <td>80</td>\n",
       "    </tr>\n",
       "  </tbody>\n",
       "</table>\n",
       "</div>"
      ],
      "text/plain": [
       "            Break  Lunch  Dinner\n",
       "2017-08-12     85     95      95\n",
       "2017-08-13     70     65      90\n",
       "2017-08-14     50     90      65\n",
       "2017-08-15     50     80      75\n",
       "2017-08-16     80     60      80\n",
       "2017-08-17     55     95      55\n",
       "2017-08-18     95     80      80"
      ]
     },
     "execution_count": 87,
     "metadata": {},
     "output_type": "execute_result"
    }
   ],
   "source": [
    "df1"
   ]
  },
  {
   "cell_type": "code",
   "execution_count": 88,
   "metadata": {
    "id": "qrRmQv7OJxTP"
   },
   "outputs": [
    {
     "data": {
      "text/plain": [
       "2017-08-12    85\n",
       "2017-08-13    70\n",
       "2017-08-14    50\n",
       "2017-08-15    50\n",
       "2017-08-16    80\n",
       "2017-08-17    55\n",
       "2017-08-18    95\n",
       "Freq: D, Name: Break, dtype: int64"
      ]
     },
     "execution_count": 88,
     "metadata": {},
     "output_type": "execute_result"
    }
   ],
   "source": [
    "# Selecting breakfast\n",
    "df1['Break']"
   ]
  },
  {
   "cell_type": "code",
   "execution_count": 89,
   "metadata": {},
   "outputs": [
    {
     "data": {
      "text/html": [
       "<div>\n",
       "<style scoped>\n",
       "    .dataframe tbody tr th:only-of-type {\n",
       "        vertical-align: middle;\n",
       "    }\n",
       "\n",
       "    .dataframe tbody tr th {\n",
       "        vertical-align: top;\n",
       "    }\n",
       "\n",
       "    .dataframe thead th {\n",
       "        text-align: right;\n",
       "    }\n",
       "</style>\n",
       "<table border=\"1\" class=\"dataframe\">\n",
       "  <thead>\n",
       "    <tr style=\"text-align: right;\">\n",
       "      <th></th>\n",
       "      <th>Break</th>\n",
       "      <th>Lunch</th>\n",
       "      <th>Dinner</th>\n",
       "    </tr>\n",
       "  </thead>\n",
       "  <tbody>\n",
       "    <tr>\n",
       "      <th>2017-08-12</th>\n",
       "      <td>85</td>\n",
       "      <td>95</td>\n",
       "      <td>95</td>\n",
       "    </tr>\n",
       "    <tr>\n",
       "      <th>2017-08-13</th>\n",
       "      <td>70</td>\n",
       "      <td>65</td>\n",
       "      <td>90</td>\n",
       "    </tr>\n",
       "    <tr>\n",
       "      <th>2017-08-14</th>\n",
       "      <td>50</td>\n",
       "      <td>90</td>\n",
       "      <td>65</td>\n",
       "    </tr>\n",
       "  </tbody>\n",
       "</table>\n",
       "</div>"
      ],
      "text/plain": [
       "            Break  Lunch  Dinner\n",
       "2017-08-12     85     95      95\n",
       "2017-08-13     70     65      90\n",
       "2017-08-14     50     90      65"
      ]
     },
     "execution_count": 89,
     "metadata": {},
     "output_type": "execute_result"
    }
   ],
   "source": [
    "# Selecting the first three day\n",
    "df1.head(3)"
   ]
  },
  {
   "cell_type": "code",
   "execution_count": 90,
   "metadata": {
    "id": "1ttCVrxxJxTU"
   },
   "outputs": [
    {
     "name": "stdout",
     "output_type": "stream",
     "text": [
      "Break     85\n",
      "Lunch     95\n",
      "Dinner    95\n",
      "Name: 2017-08-12 00:00:00, dtype: int64\n",
      "            Break  Lunch  Dinner\n",
      "2017-08-12     85     95      95\n",
      "2017-08-16     80     60      80\n",
      "            Break  Lunch\n",
      "2017-08-12     85     95\n",
      "2017-08-13     70     65\n",
      "2017-08-14     50     90\n",
      "2017-08-15     50     80\n",
      "2017-08-16     80     60\n",
      "2017-08-17     55     95\n",
      "2017-08-18     95     80\n",
      "            Break  Lunch\n",
      "2017-08-12     85     95\n",
      "2017-08-13     70     65\n",
      "2017-08-14     50     90\n",
      "2017-08-15     50     80\n",
      "2017-08-16     80     60\n",
      "2017-08-17     55     95\n",
      "2017-08-18     95     80\n"
     ]
    },
    {
     "data": {
      "text/html": [
       "<div>\n",
       "<style scoped>\n",
       "    .dataframe tbody tr th:only-of-type {\n",
       "        vertical-align: middle;\n",
       "    }\n",
       "\n",
       "    .dataframe tbody tr th {\n",
       "        vertical-align: top;\n",
       "    }\n",
       "\n",
       "    .dataframe thead th {\n",
       "        text-align: right;\n",
       "    }\n",
       "</style>\n",
       "<table border=\"1\" class=\"dataframe\">\n",
       "  <thead>\n",
       "    <tr style=\"text-align: right;\">\n",
       "      <th></th>\n",
       "      <th>Break</th>\n",
       "      <th>Lunch</th>\n",
       "    </tr>\n",
       "  </thead>\n",
       "  <tbody>\n",
       "    <tr>\n",
       "      <th>2017-08-12</th>\n",
       "      <td>85</td>\n",
       "      <td>95</td>\n",
       "    </tr>\n",
       "    <tr>\n",
       "      <th>2017-08-13</th>\n",
       "      <td>70</td>\n",
       "      <td>65</td>\n",
       "    </tr>\n",
       "  </tbody>\n",
       "</table>\n",
       "</div>"
      ],
      "text/plain": [
       "            Break  Lunch\n",
       "2017-08-12     85     95\n",
       "2017-08-13     70     65"
      ]
     },
     "execution_count": 90,
     "metadata": {},
     "output_type": "execute_result"
    }
   ],
   "source": [
    "##### select by label\n",
    "# Selecting one assiged day\n",
    "print(df1.loc['2017-08-12'])\n",
    "\n",
    "# Selecting two assiged days\n",
    "print(df1.loc[['2017-08-12','2017-08-16']])\n",
    "\n",
    "# Selecting Breakfast and Lunch in all days\n",
    "print(df1.loc[:, ['Break', 'Lunch']])\n",
    "\n",
    "print(df1[['Break', 'Lunch']])\n",
    "\n",
    "df1.loc[['2017-08-12', '2017-08-13'], ['Break', 'Lunch']]"
   ]
  },
  {
   "cell_type": "code",
   "execution_count": 104,
   "metadata": {
    "id": "JG1a0aeIJxTX"
   },
   "outputs": [
    {
     "name": "stdout",
     "output_type": "stream",
     "text": [
      "80\n",
      "            Lunch  Dinner\n",
      "2017-08-15     80      75\n",
      "2017-08-16     60      80 \n",
      "\n",
      "2017-08-12    95\n",
      "2017-08-13    90\n",
      "2017-08-14    65\n",
      "2017-08-15    75\n",
      "2017-08-16    80\n",
      "2017-08-17    55\n",
      "2017-08-18    80\n",
      "Freq: D, Name: Dinner, dtype: int64 \n",
      "\n",
      "            Lunch  Dinner\n",
      "2017-08-12     95      95\n",
      "2017-08-13     65      90\n",
      "2017-08-14     90      65\n",
      "2017-08-15     80      75\n",
      "2017-08-16     60      80\n",
      "2017-08-17     95      55\n",
      "2017-08-18     80      80\n"
     ]
    }
   ],
   "source": [
    "#select by position\n",
    "print(df1.iloc[3, 1])\n",
    "print(df1.iloc[3:5, 1:3], '\\n')\n",
    "print(df1.loc[:, 'Dinner'], '\\n')\n",
    "print(df1.loc[:, ['Lunch', 'Dinner']])"
   ]
  },
  {
   "cell_type": "markdown",
   "metadata": {},
   "source": [
    "##### How To Filter Pandas Dataframe By Values of Column?"
   ]
  },
  {
   "cell_type": "code",
   "execution_count": 58,
   "metadata": {
    "id": "g8KzEBkrJxTf"
   },
   "outputs": [
    {
     "name": "stdout",
     "output_type": "stream",
     "text": [
      "            Break  Lunch  Dinner\n",
      "2017-08-13     95     85      85\n"
     ]
    }
   ],
   "source": [
    "# Looking for days when the lunch bill exceeds 80\n",
    "print(df1[df1['Lunch']>80])"
   ]
  },
  {
   "cell_type": "code",
   "execution_count": 65,
   "metadata": {},
   "outputs": [
    {
     "name": "stdout",
     "output_type": "stream",
     "text": [
      "            Break  Lunch  Dinner\n",
      "2017-08-12     75     80      85\n",
      "2017-08-13     95     85      85\n",
      "            Break  Lunch  Dinner\n",
      "2017-08-13     95     85      85\n",
      "2017-08-14     60     75      50\n",
      "2017-08-15     50     60      60\n",
      "2017-08-16     55     55      70\n",
      "2017-08-17     65     65      80\n",
      "2017-08-18     50     75      55\n"
     ]
    }
   ],
   "source": [
    "# Looking for days with two conditions\n",
    "print(df1[(df1['Lunch'] > 70) & (df1['Dinner'] > 60)])\n",
    "print(df1[(df1['Lunch'] > 80) | (df1['Break'] < 70)])"
   ]
  },
  {
   "cell_type": "code",
   "execution_count": 67,
   "metadata": {
    "id": "vGcNsVKfJxTi"
   },
   "outputs": [
    {
     "name": "stdout",
     "output_type": "stream",
     "text": [
      "            Break  Lunch  Dinner\n",
      "2017-08-12   75.0     80      85\n",
      "2017-08-13   95.0     85      40\n",
      "2017-08-14    NaN     75      95\n",
      "2017-08-15   50.0     60      60\n",
      "2017-08-16   55.0     55      70\n",
      "2017-08-17   65.0     65      80\n",
      "2017-08-18   50.0     60      55\n"
     ]
    }
   ],
   "source": [
    "# What is the following statments?\n",
    "\n",
    "df1.iloc[2,2] = 95 #更改df1中，2017-08-14的晚餐金額(50變95)\n",
    "df1.loc['20170818','Lunch'] = 60 #(75變60)\n",
    "df1['Dinner'][df1.Break>80] = 40 #篩選出Break中>80的行，然後將對應的Dinner設置為40\n",
    "df1.loc['20170814','Break'] = np.nan #改成nan值\n",
    "\n",
    "print(df1)"
   ]
  },
  {
   "cell_type": "code",
   "execution_count": 69,
   "metadata": {},
   "outputs": [
    {
     "data": {
      "text/html": [
       "<div>\n",
       "<style scoped>\n",
       "    .dataframe tbody tr th:only-of-type {\n",
       "        vertical-align: middle;\n",
       "    }\n",
       "\n",
       "    .dataframe tbody tr th {\n",
       "        vertical-align: top;\n",
       "    }\n",
       "\n",
       "    .dataframe thead th {\n",
       "        text-align: right;\n",
       "    }\n",
       "</style>\n",
       "<table border=\"1\" class=\"dataframe\">\n",
       "  <thead>\n",
       "    <tr style=\"text-align: right;\">\n",
       "      <th></th>\n",
       "      <th>Break</th>\n",
       "      <th>Lunch</th>\n",
       "      <th>Dinner</th>\n",
       "    </tr>\n",
       "  </thead>\n",
       "  <tbody>\n",
       "    <tr>\n",
       "      <th>2017-08-12</th>\n",
       "      <td>75.0</td>\n",
       "      <td>80.0</td>\n",
       "      <td>85.0</td>\n",
       "    </tr>\n",
       "    <tr>\n",
       "      <th>2017-08-13</th>\n",
       "      <td>95.0</td>\n",
       "      <td>85.0</td>\n",
       "      <td>NaN</td>\n",
       "    </tr>\n",
       "    <tr>\n",
       "      <th>2017-08-14</th>\n",
       "      <td>NaN</td>\n",
       "      <td>75.0</td>\n",
       "      <td>95.0</td>\n",
       "    </tr>\n",
       "    <tr>\n",
       "      <th>2017-08-15</th>\n",
       "      <td>NaN</td>\n",
       "      <td>NaN</td>\n",
       "      <td>NaN</td>\n",
       "    </tr>\n",
       "    <tr>\n",
       "      <th>2017-08-16</th>\n",
       "      <td>NaN</td>\n",
       "      <td>NaN</td>\n",
       "      <td>NaN</td>\n",
       "    </tr>\n",
       "    <tr>\n",
       "      <th>2017-08-17</th>\n",
       "      <td>NaN</td>\n",
       "      <td>NaN</td>\n",
       "      <td>80.0</td>\n",
       "    </tr>\n",
       "    <tr>\n",
       "      <th>2017-08-18</th>\n",
       "      <td>NaN</td>\n",
       "      <td>NaN</td>\n",
       "      <td>NaN</td>\n",
       "    </tr>\n",
       "  </tbody>\n",
       "</table>\n",
       "</div>"
      ],
      "text/plain": [
       "            Break  Lunch  Dinner\n",
       "2017-08-12   75.0   80.0    85.0\n",
       "2017-08-13   95.0   85.0     NaN\n",
       "2017-08-14    NaN   75.0    95.0\n",
       "2017-08-15    NaN    NaN     NaN\n",
       "2017-08-16    NaN    NaN     NaN\n",
       "2017-08-17    NaN    NaN    80.0\n",
       "2017-08-18    NaN    NaN     NaN"
      ]
     },
     "execution_count": 69,
     "metadata": {},
     "output_type": "execute_result"
    }
   ],
   "source": [
    "# what is where\n",
    "df1.where(df1>70)"
   ]
  }
 ],
 "metadata": {
  "colab": {
   "collapsed_sections": [],
   "name": "【Week06】Data Science basics (1) NumpyPandas.ipynb",
   "provenance": []
  },
  "kernelspec": {
   "display_name": "Python 3",
   "language": "python",
   "name": "python3"
  },
  "language_info": {
   "codemirror_mode": {
    "name": "ipython",
    "version": 3
   },
   "file_extension": ".py",
   "mimetype": "text/x-python",
   "name": "python",
   "nbconvert_exporter": "python",
   "pygments_lexer": "ipython3",
   "version": "3.8.4"
  }
 },
 "nbformat": 4,
 "nbformat_minor": 1
}
