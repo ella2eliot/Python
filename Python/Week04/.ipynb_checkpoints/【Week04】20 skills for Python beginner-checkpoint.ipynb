{
 "cells": [
  {
   "cell_type": "markdown",
   "metadata": {},
   "source": [
    "##### !!! please DO NOT rename this file !!!"
   ]
  },
  {
   "cell_type": "markdown",
   "metadata": {
    "colab_type": "text",
    "id": "DzqWge2YYMlR"
   },
   "source": [
    "### 20 skills for Python beginner (3) 18~20\n",
    "- student id:112524031\n",
    "- name：施盈琪"
   ]
  },
  {
   "cell_type": "markdown",
   "metadata": {
    "colab_type": "text",
    "id": "vNPhNn-oYMoT"
   },
   "source": [
    "##### 18 break or continue"
   ]
  },
  {
   "cell_type": "code",
   "execution_count": 4,
   "metadata": {
    "colab": {},
    "colab_type": "code",
    "id": "Yz6r-WlEYMoT"
   },
   "outputs": [
    {
     "name": "stdout",
     "output_type": "stream",
     "text": [
      "N\n",
      "C\n",
      "U\n",
      "G\n",
      "O\n",
      "G\n",
      "O\n",
      "G\n",
      "O\n",
      "---end---\n"
     ]
    }
   ],
   "source": [
    "SS = \"NCUGOGOGO\"\n",
    "for i in SS:\n",
    "    print(i)\n",
    "print(\"---end---\")"
   ]
  },
  {
   "cell_type": "code",
   "execution_count": 5,
   "metadata": {
    "colab": {},
    "colab_type": "code",
    "id": "XxaxSuNiYMoV"
   },
   "outputs": [
    {
     "name": "stdout",
     "output_type": "stream",
     "text": [
      "N\n",
      "C\n",
      "U\n",
      "G\n",
      "---end---\n"
     ]
    }
   ],
   "source": [
    "### break\n",
    "# With the break statement we can stop the loop even if the while condition is true\n",
    "SS = \"NCUGOGOGO\"\n",
    "for i in SS:\n",
    "    if i == \"O\":\n",
    "        break\n",
    "    print(i)\n",
    "print(\"---end---\")"
   ]
  },
  {
   "cell_type": "code",
   "execution_count": 6,
   "metadata": {
    "colab": {},
    "colab_type": "code",
    "id": "m6iPNQQCYMoW"
   },
   "outputs": [
    {
     "name": "stdout",
     "output_type": "stream",
     "text": [
      "N\n",
      "C\n",
      "U\n",
      "G\n",
      "G\n",
      "G\n",
      "---end---\n"
     ]
    }
   ],
   "source": [
    "### continue\n",
    "# With the continue statement we can stop the current iteration, and continue with the next\n",
    "for i in SS:\n",
    "    if i == \"O\":\n",
    "        continue\n",
    "    print(i)\n",
    "print(\"---end---\")"
   ]
  },
  {
   "cell_type": "code",
   "execution_count": null,
   "metadata": {
    "colab": {},
    "colab_type": "code",
    "id": "o5UYm7_mYMoX"
   },
   "outputs": [],
   "source": []
  },
  {
   "cell_type": "code",
   "execution_count": 11,
   "metadata": {},
   "outputs": [
    {
     "name": "stdout",
     "output_type": "stream",
     "text": [
      "Do you want to continue(Y/N)?ss\n",
      "NCU GO\n",
      "Do you want to continue(Y/N)?e\n",
      "NCU GO\n",
      "Do you want to continue(Y/N)?w\n",
      "NCU GO\n",
      "Do you want to continue(Y/N)?wf\n",
      "NCU GO\n",
      "Do you want to continue(Y/N)?n\n",
      "BYEBYE\n"
     ]
    }
   ],
   "source": [
    "# Practice: Find all the numbers (from 1~20) not divided by 3 or 5\n",
    "# ex: 1,2,4,7,8,...\n",
    "#break with while True\n",
    "while True:\n",
    "    A = input(\"Do you want to continue(Y/N)?\")\n",
    "    if A == 'N' or A == 'n':\n",
    "        break\n",
    "    print(\"NCU GO\")\n",
    "print(\"BYEBYE\")"
   ]
  },
  {
   "cell_type": "code",
   "execution_count": null,
   "metadata": {},
   "outputs": [],
   "source": []
  },
  {
   "cell_type": "markdown",
   "metadata": {
    "colab_type": "text",
    "id": "eRks1xejYMoY"
   },
   "source": [
    "##### 19 format string"
   ]
  },
  {
   "cell_type": "code",
   "execution_count": 12,
   "metadata": {
    "colab": {},
    "colab_type": "code",
    "id": "1RbbgMNTYMoZ"
   },
   "outputs": [
    {
     "name": "stdout",
     "output_type": "stream",
     "text": [
      "第一個值是888，第二個值是888，第三個值是AUO\n"
     ]
    }
   ],
   "source": [
    "print(\"第一個值是%s，第二個值是%s，第三個值是%s\"  %  (888,888,\"AUO\") )\n",
    "# \"填空題\" % (答案,....)\n",
    "# %d 十進位的整為\n",
    "# %f 浮點數\n",
    "# %s 字串"
   ]
  },
  {
   "cell_type": "code",
   "execution_count": 13,
   "metadata": {
    "colab": {},
    "colab_type": "code",
    "id": "uTLWaJvNYMoa"
   },
   "outputs": [
    {
     "name": "stdout",
     "output_type": "stream",
     "text": [
      "第一個值是88，第二個值是88.880000\n"
     ]
    }
   ],
   "source": [
    "print(\"第一個值是%d，第二個值是%f\"  %  (88.88,88.88))\n",
    "# %d 取整數沒有四捨五入"
   ]
  },
  {
   "cell_type": "code",
   "execution_count": 17,
   "metadata": {
    "colab": {},
    "colab_type": "code",
    "id": "7uq5uLfrYMoe"
   },
   "outputs": [
    {
     "name": "stdout",
     "output_type": "stream",
     "text": [
      "第一值88，第二值89，第三值88.9\n"
     ]
    }
   ],
   "source": [
    "print(\"第一值%d，第二值%.0f，第三值%.1f\"  %  (88.888,88.888,88.888))\n",
    "# %d 取整數沒有四捨五入\n",
    "# %.2f 四捨五入到小數點第二位\n",
    "# %.f 或 %.0f 四捨五入到整數"
   ]
  },
  {
   "cell_type": "code",
   "execution_count": 18,
   "metadata": {
    "colab": {},
    "colab_type": "code",
    "id": "q_DZL1ZRYMof"
   },
   "outputs": [
    {
     "name": "stdout",
     "output_type": "stream",
     "text": [
      "     88.89\n",
      "    888.88\n",
      " 888888.89\n"
     ]
    }
   ],
   "source": [
    "#靠右\n",
    "print(\"%10.2f\"  %  (88.888))\n",
    "print(\"%10.2f\"  %  (888.88))\n",
    "print(\"%10.2f\"  %  (888888.8888888)) "
   ]
  },
  {
   "cell_type": "code",
   "execution_count": 19,
   "metadata": {
    "colab": {},
    "colab_type": "code",
    "id": "rNUtn0leYMog"
   },
   "outputs": [
    {
     "name": "stdout",
     "output_type": "stream",
     "text": [
      "88.89     \n",
      "888.88    \n",
      "888888.89 \n"
     ]
    }
   ],
   "source": [
    "#靠左\n",
    "print(\"%-10.2f\"  %  (88.888))\n",
    "print(\"%-10.2f\"  %  (888.88))\n",
    "print(\"%-10.2f\"  %  (888888.8888888))"
   ]
  },
  {
   "cell_type": "code",
   "execution_count": null,
   "metadata": {
    "colab": {},
    "colab_type": "code",
    "id": "0DE3Ui94YMoh"
   },
   "outputs": [],
   "source": []
  },
  {
   "cell_type": "markdown",
   "metadata": {
    "colab_type": "text",
    "id": "rjADRlK5YMoi"
   },
   "source": [
    "##### 20 def the function"
   ]
  },
  {
   "cell_type": "code",
   "execution_count": null,
   "metadata": {
    "colab": {},
    "colab_type": "code",
    "id": "5M6NW38VYMoi"
   },
   "outputs": [],
   "source": [
    "# A function is a block of code which only runs when it is called.\n",
    "# You can pass data, known as parameters, into a function.\n",
    "# A function can return data as a result."
   ]
  },
  {
   "cell_type": "code",
   "execution_count": 20,
   "metadata": {
    "colab": {},
    "colab_type": "code",
    "id": "N3BAQGZcYMoj"
   },
   "outputs": [],
   "source": [
    "# without as parameters\n",
    "def TREE():\n",
    "    for i in range(1,6):\n",
    "        print(\"O\"*i)"
   ]
  },
  {
   "cell_type": "code",
   "execution_count": 21,
   "metadata": {
    "colab": {},
    "colab_type": "code",
    "id": "Bde_GtjXYMok"
   },
   "outputs": [
    {
     "name": "stdout",
     "output_type": "stream",
     "text": [
      "O\n",
      "OO\n",
      "OOO\n",
      "OOOO\n",
      "OOOOO\n"
     ]
    }
   ],
   "source": [
    "TREE()"
   ]
  },
  {
   "cell_type": "code",
   "execution_count": 24,
   "metadata": {
    "colab": {},
    "colab_type": "code",
    "id": "u9NIioRrYMol"
   },
   "outputs": [],
   "source": [
    "# with as parameters\n",
    "def TREE_n(n):\n",
    "    for i in range(1, n+1):\n",
    "        print(\"O\"*i)"
   ]
  },
  {
   "cell_type": "code",
   "execution_count": 25,
   "metadata": {
    "colab": {},
    "colab_type": "code",
    "id": "2O6vglbEYMom"
   },
   "outputs": [
    {
     "name": "stdout",
     "output_type": "stream",
     "text": [
      "O\n",
      "OO\n",
      "OOO\n"
     ]
    }
   ],
   "source": [
    "TREE_n(3)"
   ]
  },
  {
   "cell_type": "code",
   "execution_count": 26,
   "metadata": {
    "colab": {},
    "colab_type": "code",
    "id": "daCDjqYTYMos"
   },
   "outputs": [],
   "source": [
    "# with as parameters with a defalt value\n",
    "def TREE_d(n=5):\n",
    "    for i in range(1, n+1):\n",
    "        print(\"O\"*i)"
   ]
  },
  {
   "cell_type": "code",
   "execution_count": 28,
   "metadata": {},
   "outputs": [
    {
     "name": "stdout",
     "output_type": "stream",
     "text": [
      "O\n",
      "OO\n",
      "OOO\n",
      "OOOO\n",
      "OOOOO\n"
     ]
    }
   ],
   "source": [
    "TREE_d()"
   ]
  },
  {
   "cell_type": "code",
   "execution_count": null,
   "metadata": {},
   "outputs": [],
   "source": []
  },
  {
   "cell_type": "code",
   "execution_count": null,
   "metadata": {},
   "outputs": [],
   "source": [
    "# Practice: writh a BMI(H,W), let user input H and W, and caculate the BMI"
   ]
  },
  {
   "cell_type": "code",
   "execution_count": 49,
   "metadata": {},
   "outputs": [],
   "source": [
    "def BMI():\n",
    "    h = float(input('Please enter your height(meters):'))\n",
    "    w = float(input('Please enter your weight(kg):'))\n",
    "    bmi = w/(h**2)\n",
    "    print(\"your BMI is %.2f.\" % bmi)\n",
    "    print(f'your bmi is: {bmi:.2f}')"
   ]
  },
  {
   "cell_type": "code",
   "execution_count": 50,
   "metadata": {},
   "outputs": [
    {
     "name": "stdout",
     "output_type": "stream",
     "text": [
      "Please enter your height(meters):1.51\n",
      "Please enter your weight(kg):41\n",
      "your BMI is 17.98.\n",
      "your bmi is: 17.98\n"
     ]
    }
   ],
   "source": [
    "BMI()"
   ]
  }
 ],
 "metadata": {
  "colab": {
   "collapsed_sections": [],
   "name": "【Day01】手把手學會如何撩Python-練習.ipynb",
   "provenance": []
  },
  "kernelspec": {
   "display_name": "Python 3",
   "language": "python",
   "name": "python3"
  },
  "language_info": {
   "codemirror_mode": {
    "name": "ipython",
    "version": 3
   },
   "file_extension": ".py",
   "mimetype": "text/x-python",
   "name": "python",
   "nbconvert_exporter": "python",
   "pygments_lexer": "ipython3",
   "version": "3.8.4"
  }
 },
 "nbformat": 4,
 "nbformat_minor": 1
}
