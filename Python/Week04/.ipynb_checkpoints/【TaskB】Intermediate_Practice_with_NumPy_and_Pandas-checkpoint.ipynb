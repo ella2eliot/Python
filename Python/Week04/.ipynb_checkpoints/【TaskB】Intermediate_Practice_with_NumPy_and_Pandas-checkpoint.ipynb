{
 "cells": [
  {
   "cell_type": "markdown",
   "metadata": {
    "id": "SWJ90l2t4b0V"
   },
   "source": [
    "### 【TaskB】Intermediate Practice with NumPy and Pandas\n",
    "- student id: 112524031\n",
    "- name： 施盈琪"
   ]
  },
  {
   "cell_type": "markdown",
   "metadata": {
    "id": "ViVFWO0vxTAU"
   },
   "source": [
    "## Project Scenario: Student Learning Efficiency and Performance Analysis/專案情境：學生學習效率與成績表現分析\n",
    "\n",
    "### Background/背景介紹\n",
    "\n",
    "You are a data analyst at a school, and the administration wants to analyze students' learning behavior based on their study hours and performance in three subjects: Math, Science, and English. The school has a clear goal: to optimize teaching strategies, improve student learning efficiency, and help underperforming students enhance their learning methods.\n",
    "\n",
    "\n",
    "你是某所學校的數據分析師，校方希望透過對學生學習行為的數據分析，來了解學生在數學、科學和英語這三個科目上的學習投入和成績表現。學校有個具體的目標：優化教學策略，以提升學生的學習效率，並幫助成績落後的學生改善學習方式。\n",
    "\n",
    "\n",
    "---\n",
    "\n",
    "### Your Data/你的資料\n",
    "\n",
    "```python\n",
    "students = [\"Alice\", \"Bob\", \"Charlie\", \"David\", \"Eva\", \"Frank\", \"Grace\", \"Hannah\", \"Ian\", \"Julia\"]\n",
    "math_hours = [10, 15, 20, 18, 12, 14, 11, 16, 17, 13]\n",
    "science_hours = [12, 18, 17, 20, 13, 16, 12, 17, 19, 15]\n",
    "english_hours = [13, 17, 18, 22, 15, 15, 15, 14, 17, 16]\n",
    "\n",
    "math_scores = [70, 85, 90, 88, 75, 80, 72, 84, 89, 78]\n",
    "science_scores = [68, 88, 85, 90, 74, 82, 73, 86, 91, 77]\n",
    "english_scores = [72, 87, 83, 86, 78, 81, 75, 85, 90, 80]\n",
    "```\n",
    "\n"
   ]
  },
  {
   "cell_type": "markdown",
   "metadata": {
    "id": "8D9_xTWROb5u"
   },
   "source": [
    "### Question 1 / 第一題\n",
    "**Distribution of study hours**: The school wants to know if students have fairly distributed their study time across different subjects. Are there subjects where the time is exceptionally high or low?\n",
    "\n",
    "學習時數的分佈：學校想知道學生是否在各個科目上合理分配了學習時間？是否有科目時間特別高或特別低的情況？"
   ]
  },
  {
   "cell_type": "markdown",
   "metadata": {
    "id": "x9pas9EBFl8G"
   },
   "source": [
    "### **Reference practices**/**參考做法**\n",
    "\n",
    "---\n",
    "#### Question 1: Normalizing Study Hours/問題 1：正規化學習時數\n",
    "1. Convert the students' study hours (`math_hours`, `science_hours`, and `english_hours`) into NumPy arrays for easier processing./\n",
    "\n",
    "  將學生的學習時數（`math_hours`，`science_hours` 和 `english_hours`）轉換為 NumPy 陣列，便於後續處理。\n",
    "2. Normalize the study hours so that all values fall between 0 and 1. This allows for a fair comparison of study time distribution across different subjects.\n",
    "  \n",
    "  將學習時數進行正規化，使得所有數據落在 0 和 1 之間，這樣可以更公平地比較學生在不同科目上的學習時間分佈。\n",
    "3. Display the normalized study hours for each student and compare whether students have balanced their study time across different subjects.\n",
    "\n",
    "  顯示每位學生正規化後的學習時數，並比較不同學生在各個科目上的學習時間是否均衡。\n"
   ]
  },
  {
   "cell_type": "code",
   "execution_count": 15,
   "metadata": {
    "id": "zgjecIjxLqPM"
   },
   "outputs": [
    {
     "name": "stdout",
     "output_type": "stream",
     "text": [
      "------------ Question 1 Answer Section/問題一作答區 ------------\n",
      "Math Z-score: [-1.5132889   0.13159034  1.77646958  1.11851788 -0.8553372  -0.19738551\n",
      " -1.18431305  0.46056619  0.78954203 -0.52636136]\n",
      "Science Z-score: [-1.44444444  0.77777778  0.40740741  1.51851852 -1.07407407  0.03703704\n",
      " -1.44444444  0.40740741  1.14814815 -0.33333333]\n",
      "English Z-score: [-1.33333333  0.33333333  0.75        2.41666667 -0.5        -0.5\n",
      " -0.5        -0.91666667  0.33333333 -0.08333333]\n",
      "\n",
      "Math (Z-score -> Min-Max): [0.  0.5 1.  0.8 0.2 0.4 0.1 0.6 0.7 0.3]\n",
      "Science (Z-score -> Min-Max): [0.    0.75  0.625 1.    0.125 0.5   0.    0.625 0.875 0.375]\n",
      "English (Z-score -> Min-Max): [0.         0.44444444 0.55555556 1.         0.22222222 0.22222222\n",
      " 0.22222222 0.11111111 0.44444444 0.33333333]\n"
     ]
    }
   ],
   "source": [
    "# Question 1 Answer Section/問題一作答區\n",
    "print('------------ Question 1 Answer Section/問題一作答區 ------------')\n",
    "# Place your data analysis process here/在此處寫出你的數據分析過程\n",
    "# You can watch the reference method/可以觀看參考做法\n",
    "import numpy as np\n",
    "\n",
    "# 原始資料\n",
    "math_hours = [10, 15, 20, 18, 12, 14, 11, 16, 17, 13]\n",
    "science_hours = [12, 18, 17, 20, 13, 16, 12, 17, 19, 15]\n",
    "english_hours = [13, 17, 18, 22, 15, 15, 15, 14, 17, 16]\n",
    "\n",
    "# 轉換成 numpy array\n",
    "math_array = np.array(math_hours)\n",
    "science_array = np.array(science_hours)\n",
    "english_array = np.array(english_hours)\n",
    "\n",
    "# Z-score 標準化函數\n",
    "def z_score_normalize(data):\n",
    "    mean = np.mean(data)\n",
    "    std = np.std(data)\n",
    "    return (data - mean) / std\n",
    "\n",
    "# 對每組數據進行 Z-score 標準化\n",
    "math_z = z_score_normalize(np.array(math_hours))\n",
    "science_z = z_score_normalize(np.array(science_hours))\n",
    "english_z = z_score_normalize(np.array(english_hours))\n",
    "\n",
    "# 對 Z-score 結果進行 Min-Max 正規化，縮放到 0 和 1 之間\n",
    "math_normalized = min_max_normalize(math_z)\n",
    "science_normalized = min_max_normalize(science_z)\n",
    "english_normalized = min_max_normalize(english_z)\n",
    "\n",
    "# 顯示結果z\n",
    "print(\"Math Z-score:\", math_z)\n",
    "print(\"Science Z-score:\", science_z)\n",
    "print(\"English Z-score:\", english_z)\n",
    "\n",
    "# 顯示結果min-max\n",
    "print(\"\\nMath (Z-score -> Min-Max):\", math_normalized)\n",
    "print(\"Science (Z-score -> Min-Max):\", science_normalized)\n",
    "print(\"English (Z-score -> Min-Max):\", english_normalized)"
   ]
  },
  {
   "cell_type": "code",
   "execution_count": 18,
   "metadata": {
    "scrolled": true
   },
   "outputs": [
    {
     "name": "stdout",
     "output_type": "stream",
     "text": [
      "學生: Alice\n",
      "  數學: 0.00, 科學: 0.00, 英文: 0.00\n",
      "  學習時間均衡\n",
      "\n",
      "學生: Bob\n",
      "  數學: 0.50, 科學: 0.75, 英文: 0.44\n",
      "  學習時間不均衡\n",
      "\n",
      "學生: Charlie\n",
      "  數學: 1.00, 科學: 0.62, 英文: 0.56\n",
      "  學習時間不均衡\n",
      "\n",
      "學生: David\n",
      "  數學: 0.80, 科學: 1.00, 英文: 1.00\n",
      "  學習時間均衡\n",
      "\n",
      "學生: Eva\n",
      "  數學: 0.20, 科學: 0.12, 英文: 0.22\n",
      "  學習時間均衡\n",
      "\n",
      "學生: Frank\n",
      "  數學: 0.40, 科學: 0.50, 英文: 0.22\n",
      "  學習時間均衡\n",
      "\n",
      "學生: Grace\n",
      "  數學: 0.10, 科學: 0.00, 英文: 0.22\n",
      "  學習時間均衡\n",
      "\n",
      "學生: Hannah\n",
      "  數學: 0.60, 科學: 0.62, 英文: 0.11\n",
      "  學習時間不均衡\n",
      "\n",
      "學生: Ian\n",
      "  數學: 0.70, 科學: 0.88, 英文: 0.44\n",
      "  學習時間不均衡\n",
      "\n",
      "學生: Julia\n",
      "  數學: 0.30, 科學: 0.37, 英文: 0.33\n",
      "  學習時間均衡\n",
      "\n"
     ]
    }
   ],
   "source": [
    "students = [\"Alice\", \"Bob\", \"Charlie\", \"David\", \"Eva\", \"Frank\", \"Grace\", \"Hannah\", \"Ian\", \"Julia\"]\n",
    "# 顯示每位學生的正規化學習時數並檢查是否均衡\n",
    "for i in range(len(students)):\n",
    "    student = students[i]\n",
    "    math_time = math_normalized[i]\n",
    "    science_time = science_normalized[i]\n",
    "    english_time = english_normalized[i]\n",
    "    \n",
    "    print(f\"學生: {student}\")\n",
    "    print(f\"  數學: {math_time:.2f}, 科學: {science_time:.2f}, 英文: {english_time:.2f}\")\n",
    "    \n",
    "    # 檢查三科是否均衡（各科差異不超過0.3）\n",
    "    if abs(math_time - science_time) <= 0.3 and abs(math_time - english_time) <= 0.3 and abs(science_time - english_time) <= 0.3:\n",
    "        print(f\"  學習時間均衡\\n\")\n",
    "    else:\n",
    "        print(f\"  學習時間不均衡\\n\")"
   ]
  },
  {
   "cell_type": "markdown",
   "metadata": {
    "id": "jARZrgmoMwKr"
   },
   "source": [
    "## 以30%為誤差判斷學生是否有學習均衡的情況可以看出，學習不均衡的學生較著重於數學與科學2科，英文都是他們學習時間最少的科目\n",
    "## 學習均衡的學生則較無規律能看出他們比較偏重哪科"
   ]
  },
  {
   "cell_type": "markdown",
   "metadata": {
    "id": "v1ah5aKwOpq8"
   },
   "source": [
    "### Question 2 / 第二題\n",
    "\n",
    "**Relationship between study time and performance**: The school wants to know if study hours are truly proportional to student performance. Does more study time lead to better results, or are some students able to achieve high scores with less study time, being classified as \"efficient learners\"?\n",
    "\n",
    "學習時間與成績的關係：學校希望知道，學習時數是否真的與學生的成績成正比。如果花更多時間學習，成績真的會更好嗎？還是有些學生在短時間內取得了較高的成績，從而被視為「高效學習者」？"
   ]
  },
  {
   "cell_type": "markdown",
   "metadata": {
    "id": "3h8MCXIsFfrc"
   },
   "source": [
    "\n",
    "### **Reference practices**/**參考做法**\n",
    "---\n",
    "#### Question 2: Correlation between Study Hours and Performance/問題 2：學習時數與成績的關聯分析\n",
    "1. Create a Pandas DataFrame that consolidates student names, study hours, and scores for easier data analysis.\n",
    "\n",
    "  建立一個 Pandas DataFrame，將學生姓名、學習時數和成績整合在一起，便於後續數據分析。\n",
    "2. Calculate each student's total average score (`Total_Score`) and add a new column to show each student's average score across the three subjects.\n",
    "\n",
    "  計算每位學生的總平均成績（`Total_Score`），並新增一個欄位來顯示每位學生在三個科目中的平均成績。\n",
    "3. Use Pandas correlation functionality to analyze the relationship between study hours and total scores. Check if more study time leads to better performance.\n",
    "\n",
    "  使用 Pandas 的相關性計算功能，分析學習時數與總成績之間的相關性，看看是否學習時間越長，成績越好。\n",
    "4. Investigate whether some students achieve good scores with less study time, which helps identify \"efficient learners.\"\n",
    "\n",
    "  探討有些學生是否在較少學習時間下，卻能獲得不錯的成績，這將幫助學校找到「高效學習者」。\n",
    "\n",
    "5. Sort students by total scores and identify the top three performers in the class. Analyze their study patterns.\n",
    "  \n",
    "  依據學生的總成績進行排序，找出班級中表現最好的三位學生，並分析他們的學習模式。\n",
    "6. Create a bar chart comparing these three students' scores in Math, Science, and English. Identify if they excel in all subjects or in specific ones.\n",
    "\n",
    "  使用條形圖比較這三名學生在數學、科學和英語三個科目中的成績，並找出他們是否在某些科目上表現得特別出色。\n",
    "7. Discuss their study patterns and determine whether they have consistent strategies or focus more on certain subjects.\n",
    "\n",
    "  討論這些學生的學習模式，並指出他們是否具備一致的學習策略，還是只在某些科目上投入了更多時間和精力。\n"
   ]
  },
  {
   "cell_type": "markdown",
   "metadata": {
    "id": "LOQ9-ZwcFuhO"
   },
   "source": []
  },
  {
   "cell_type": "code",
   "execution_count": 22,
   "metadata": {
    "id": "uMnIA9MuLvZ6"
   },
   "outputs": [
    {
     "name": "stdout",
     "output_type": "stream",
     "text": [
      "------------ Question 2 Answer Section/問題二作答區 ------------\n",
      "學生的學習情況數據表：\n",
      "   Student  Math_Hours  Science_Hours  English_Hours  Math_Score  \\\n",
      "0    Alice          10             12             13          70   \n",
      "1      Bob          15             18             17          85   \n",
      "2  Charlie          20             17             18          90   \n",
      "3    David          18             20             22          88   \n",
      "4      Eva          12             13             15          75   \n",
      "5    Frank          14             16             15          80   \n",
      "6    Grace          11             12             15          72   \n",
      "7   Hannah          16             17             14          84   \n",
      "8      Ian          17             19             17          89   \n",
      "9    Julia          13             15             16          78   \n",
      "\n",
      "   Science_Score  English_Score  Mean_Score  Total_Hours  Efficiency  \n",
      "0             68             72       70.00           35    2.000000  \n",
      "1             88             87       86.67           50    1.733400  \n",
      "2             85             83       86.00           55    1.563636  \n",
      "3             90             86       88.00           60    1.466667  \n",
      "4             74             78       75.67           40    1.891750  \n",
      "5             82             81       81.00           45    1.800000  \n",
      "6             73             75       73.33           38    1.929737  \n",
      "7             86             85       85.00           47    1.808511  \n",
      "8             91             90       90.00           53    1.698113  \n",
      "9             77             80       78.33           44    1.780227  \n",
      "\n",
      "學習時數與成績的相關性矩陣：\n",
      "               Math_Hours  Science_Hours  English_Hours  Mean_Score\n",
      "Math_Hours       1.000000       0.860211       0.710040    0.899819\n",
      "Science_Hours    0.860211       1.000000       0.743827    0.969850\n",
      "English_Hours    0.710040       0.743827       1.000000    0.670278\n",
      "Mean_Score       0.899819       0.969850       0.670278    1.000000\n",
      "\n",
      "學習效率排序（由高到低）：\n",
      "   Student  Mean_Score  Total_Hours  Efficiency\n",
      "0    Alice       70.00           35    2.000000\n",
      "6    Grace       73.33           38    1.929737\n",
      "4      Eva       75.67           40    1.891750\n",
      "7   Hannah       85.00           47    1.808511\n",
      "5    Frank       81.00           45    1.800000\n",
      "9    Julia       78.33           44    1.780227\n",
      "1      Bob       86.67           50    1.733400\n",
      "8      Ian       90.00           53    1.698113\n",
      "2  Charlie       86.00           55    1.563636\n",
      "3    David       88.00           60    1.466667\n"
     ]
    }
   ],
   "source": [
    "# Question 2 Answer Section/問題二作答區\n",
    "print('------------ Question 2 Answer Section/問題二作答區 ------------')\n",
    "# Place your data analysis process here/在此處寫出你的數據分析過程\n",
    "# You can watch the reference method/可以觀看參考做法\n",
    "import pandas as pd\n",
    "import matplotlib.pyplot as plt\n",
    "\n",
    "# 學生名單\n",
    "students = [\"Alice\", \"Bob\", \"Charlie\", \"David\", \"Eva\", \"Frank\", \"Grace\", \"Hannah\", \"Ian\", \"Julia\"]\n",
    "\n",
    "# 各科學習時數（之前提供的數據）\n",
    "math_hours = [10, 15, 20, 18, 12, 14, 11, 16, 17, 13]\n",
    "science_hours = [12, 18, 17, 20, 13, 16, 12, 17, 19, 15]\n",
    "english_hours = [13, 17, 18, 22, 15, 15, 15, 14, 17, 16]\n",
    "\n",
    "# 各科最新成績數據\n",
    "math_scores = [70, 85, 90, 88, 75, 80, 72, 84, 89, 78]\n",
    "science_scores = [68, 88, 85, 90, 74, 82, 73, 86, 91, 77]\n",
    "english_scores = [72, 87, 83, 86, 78, 81, 75, 85, 90, 80]\n",
    "\n",
    "# 創建 Pandas DataFrame，將學生資料整合\n",
    "data = {\n",
    "    'Student': students,\n",
    "    'Math_Hours': math_hours,\n",
    "    'Science_Hours': science_hours,\n",
    "    'English_Hours': english_hours,\n",
    "    'Math_Score': math_scores,\n",
    "    'Science_Score': science_scores,\n",
    "    'English_Score': english_scores\n",
    "}\n",
    "\n",
    "df = pd.DataFrame(data)\n",
    "\n",
    "# 計算每位學生的總成績並加上一個新欄位 Mean_Score\n",
    "df['Mean_Score'] = df[['Math_Score', 'Science_Score', 'English_Score']].mean(axis=1).round(2)\n",
    "\n",
    "# 計算每位學生的總學習時數\n",
    "df['Total_Hours'] = df[['Math_Hours', 'Science_Hours', 'English_Hours']].sum(axis=1)\n",
    "\n",
    "# 計算每位學生的學習效率（平均成績 / 總學習時數）\n",
    "df['Efficiency'] = df['Mean_Score'] / df['Total_Hours']\n",
    "\n",
    "# 顯示 DataFrame\n",
    "print(\"學生的學習情況數據表：\")\n",
    "print(df)\n",
    "\n",
    "# 計算學習時數與成績的相關性\n",
    "correlation_matrix = df[['Math_Hours', 'Science_Hours', 'English_Hours', 'Mean_Score']].corr()\n",
    "print(\"\\n學習時數與成績的相關性矩陣：\")\n",
    "print(correlation_matrix)\n",
    "\n",
    "# 找出學習效率最高的學生\n",
    "efficient_students = df.sort_values(by='Efficiency', ascending=False)\n",
    "print(\"\\n學習效率排序（由高到低）：\")\n",
    "print(efficient_students[['Student', 'Mean_Score', 'Total_Hours', 'Efficiency']])"
   ]
  },
  {
   "cell_type": "code",
   "execution_count": 44,
   "metadata": {},
   "outputs": [
    {
     "name": "stdout",
     "output_type": "stream",
     "text": [
      "\n",
      "總成績前三名的學生：\n",
      "  Student  Mean_Score  Math_Hours  Science_Hours  English_Hours\n",
      "8     Ian       90.00          17             19             17\n",
      "3   David       88.00          18             20             22\n",
      "1     Bob       86.67          15             18             17\n"
     ]
    },
    {
     "data": {
      "image/png": "[encoded data removed]",
      "text/plain": [
       "<Figure size 1152x576 with 1 Axes>"
      ]
     },
     "metadata": {
      "needs_background": "light"
     },
     "output_type": "display_data"
    }
   ],
   "source": [
    "# 按照總成績進行排序，找出前三名學生\n",
    "top_students = df.sort_values(by='Mean_Score', ascending=False).head(3)\n",
    "print(\"\\n總成績前三名的學生：\")\n",
    "print(top_students[['Student', 'Mean_Score', 'Math_Hours', 'Science_Hours', 'English_Hours']])\n",
    "\n",
    "fig, ax = plt.subplots(figsize=(16, 8))  # 增加圖表寬度\n",
    "\n",
    "top_students.plot(\n",
    "    x='Student', \n",
    "    y=['Math_Score', 'Science_Score', 'English_Score'], \n",
    "    kind='bar', \n",
    "    ax=ax\n",
    ")\n",
    "\n",
    "# 手動添加數值標籤到每個柱子上\n",
    "for container in ax.containers:\n",
    "    for bar in container:\n",
    "        height = bar.get_height()\n",
    "        ax.text(\n",
    "            bar.get_x() + bar.get_width() / 2,  # x 坐標\n",
    "            height,  # y 坐標\n",
    "            f'{height:.2f}',  # 顯示的數值，保留小數點後兩位\n",
    "            ha='center', va='bottom'  # 標籤在柱狀圖上方居中\n",
    "        )\n",
    "\n",
    "# 修改圖例的標籤名稱\n",
    "ax.legend(['Math', 'Science', 'English'])\n",
    "        \n",
    "# 設置圖表標題和標籤\n",
    "plt.title(\"Top 3 Students' Scores Comparison\")\n",
    "plt.ylabel('Scores')\n",
    "\n",
    "# 顯示圖表\n",
    "plt.show()"
   ]
  },
  {
   "cell_type": "markdown",
   "metadata": {
    "id": "p0uM4W0OMwu7"
   },
   "source": [
    "## 成績最好的三位學生(Ian, David,以及Bob)他們各科的平均成績皆超過85分，而Ian跟Bob是學習不均衡的學生(都比較沒有在讀英文)，不排除他們對英文有相當大的天分。\n",
    "## 儘管如此，這三位的學習效率都在末段，需要小心之後被其他學習效率較佳的同學超車"
   ]
  },
  {
   "cell_type": "markdown",
   "metadata": {
    "id": "jwSey8jrOtvs"
   },
   "source": [
    "### Question 3(bonus challenge) / 第三題(加分挑戰)\n",
    "\n",
    "Student Grouping (Bonus Challenge): Through this analysis, the school aims to understand how to group students based on their different learning habits and efficiency, in order to adjust the curriculum or reallocate resources, helping students achieve optimal learning outcomes.\n",
    "\n",
    "學生分組(加分挑戰)：通過這次分析，學校希望了解如何根據學生的不同學習習慣與效率**分組**，進行課程的調整或資源的重新分配，幫助學生達到最佳學習效果。"
   ]
  },
  {
   "cell_type": "markdown",
   "metadata": {
    "id": "RAOUngHpGEUt"
   },
   "source": [
    "### **Reference practices**/**參考做法**\n",
    "\n",
    "---\n",
    "\n",
    "#### Bonus Challenge: Performance Group Analysis/加分挑戰：學生表現分層分析\n",
    "1. Based on each student's total score, group them into three categories: high performers, medium performers, and low performers. Add a `Performance_Level` column to the DataFrame to label these groups.\n",
    "\n",
    "  根據每位學生的總成績，將他們分為三個層級：高成就者、中等成就者和低成就者，並在 DataFrame 中新增一個 `Performance_Level` 欄位來標示這些分組。\n",
    "2. Create a pie chart showing the distribution of students across these performance levels, and analyze the proportions.\n",
    "\n",
    "  使用圓餅圖展示這些學生的分佈情況，並通過圖表來分析班級中不同成就層級的學生比例。\n",
    "3. Reflect on the grouping data, and suggest if the school needs to provide more support for low performers or offer advanced challenges for high performers.\n",
    "\n",
    "  反思這些分層數據，並提出是否需要為低成就者提供更多的學習資源和支持，或為高成就者提供進階課程挑戰。"
   ]
  },
  {
   "cell_type": "code",
   "execution_count": 45,
   "metadata": {
    "id": "modiPoR_MBND"
   },
   "outputs": [
    {
     "name": "stdout",
     "output_type": "stream",
     "text": [
      "------------ Question 3 Answer Section/問題三作答區 ------------\n",
      "   Student  Mean_Score  Performance_Level\n",
      "0    Alice       70.00     Low Performers\n",
      "1      Bob       86.67    High Performers\n",
      "2  Charlie       86.00    High Performers\n",
      "3    David       88.00    High Performers\n",
      "4      Eva       75.67  Medium Performers\n",
      "5    Frank       81.00  Medium Performers\n",
      "6    Grace       73.33     Low Performers\n",
      "7   Hannah       85.00    High Performers\n",
      "8      Ian       90.00    High Performers\n",
      "9    Julia       78.33  Medium Performers\n"
     ]
    },
    {
     "data": {
      "image/png": "[encoded data removed]",
      "text/plain": [
       "<Figure size 576x576 with 1 Axes>"
      ]
     },
     "metadata": {},
     "output_type": "display_data"
    },
    {
     "name": "stdout",
     "output_type": "stream",
     "text": [
      "高成就者人數: 5\n",
      "中等成就者人數: 3\n",
      "低成就者人數: 2\n"
     ]
    }
   ],
   "source": [
    "# Question 3 Answer Section (bonus challenge)/問題三作答區(加分挑戰)\n",
    "print('------------ Question 3 Answer Section/問題三作答區 ------------')\n",
    "# Place your data analysis process here/在此處寫出你的數據分析過程\n",
    "# You can watch the reference method/可以觀看參考做法\n",
    "import pandas as pd\n",
    "import matplotlib.pyplot as plt\n",
    "\n",
    "# 學生名單\n",
    "students = [\"Alice\", \"Bob\", \"Charlie\", \"David\", \"Eva\", \"Frank\", \"Grace\", \"Hannah\", \"Ian\", \"Julia\"]\n",
    "\n",
    "# 各科最新成績數據\n",
    "math_scores = [70, 85, 90, 88, 75, 80, 72, 84, 89, 78]\n",
    "science_scores = [68, 88, 85, 90, 74, 82, 73, 86, 91, 77]\n",
    "english_scores = [72, 87, 83, 86, 78, 81, 75, 85, 90, 80]\n",
    "\n",
    "# 創建 Pandas DataFrame，將學生資料整合\n",
    "data = {\n",
    "    'Student': students,\n",
    "    'Math_Score': math_scores,\n",
    "    'Science_Score': science_scores,\n",
    "    'English_Score': english_scores\n",
    "}\n",
    "\n",
    "df = pd.DataFrame(data)\n",
    "\n",
    "# 計算每位學生的平均分數，並將結果四捨五入到小數點後兩位\n",
    "df['Mean_Score'] = df[['Math_Score', 'Science_Score', 'English_Score']].mean(axis=1).round(2)\n",
    "\n",
    "# 步驟 1：根據平均分數將學生分為高、中、低成就者\n",
    "# 定義分組的閾值\n",
    "bins = [0, 75, 85, 100]  # 分成三組：低成就者（75分以下）、中等成就者（75-85分之間）、高成就者（85分以上）\n",
    "labels = ['Low Performers', 'Medium Performers', 'High Performers']\n",
    "\n",
    "# 使用 cut 函數進行分組\n",
    "df['Performance_Level'] = pd.cut(df['Mean_Score'], bins=bins, labels=labels, right=False)\n",
    "\n",
    "# 顯示分組結果\n",
    "print(df[['Student', 'Mean_Score', 'Performance_Level']])\n",
    "\n",
    "# 步驟 2：繪製圓餅圖來顯示成就等級的分佈\n",
    "performance_counts = df['Performance_Level'].value_counts()\n",
    "\n",
    "# 繪製圓餅圖\n",
    "plt.figure(figsize=(8, 8))\n",
    "plt.pie(performance_counts, labels=performance_counts.index, autopct='%1.1f%%', startangle=90, colors=['#ff9999','#66b3ff','#99ff99'])\n",
    "plt.title('Distribution of Students by Performance Level')\n",
    "plt.axis('equal')  # 保證圓餅圖是圓形\n",
    "plt.show()\n",
    "\n",
    "high_performers_count = performance_counts['High Performers']\n",
    "low_performers_count = performance_counts['Low Performers']\n",
    "medium_performers_count = performance_counts['Medium Performers']\n",
    "\n",
    "print(f\"高成就者人數: {high_performers_count}\")\n",
    "print(f\"中等成就者人數: {medium_performers_count}\")\n",
    "print(f\"低成就者人數: {low_performers_count}\")"
   ]
  },
  {
   "cell_type": "markdown",
   "metadata": {
    "id": "dh6pYBjkRAfK"
   },
   "source": [
    "## 將成就分為高成就(平均分數>85)、中成就(75~85)與低成就(<75)三類，發現大多同學的成績都位於高成就區間，可見雖然學習效率偶有差異，但依舊可以用學習時間彌補\n",
    "## 對於高成就的學生，建議學校可以考慮提供更具挑戰性的課程或學習機會讓他們有更多機會挑戰自我\n",
    "## 對於低成就的學生，學校可以考慮提供額外的學習資源或支持"
   ]
  },
  {
   "cell_type": "markdown",
   "metadata": {
    "id": "8RFccBb-PwOM"
   },
   "source": []
  },
  {
   "cell_type": "markdown",
   "metadata": {
    "id": "wLD9wSKc3Bld"
   },
   "source": [
    "## Summary/結論\n",
    "Integrate the above analysis and draw conclusions/將上面分析統整出結論"
   ]
  },
  {
   "cell_type": "markdown",
   "metadata": {},
   "source": [
    "## 雖然在此研究中無法看出學習時間對於學習成績的影響，但也很有可能是因為學生非常了解自己的偏科在哪，以至於他們會花更多時間在不擅長的科目上，顯示出即便他們成績很好，但學習時間卻比其他同學更多，且學習效率處於較低水準。\n",
    "## 因此建議學校在面對這些高成就的學生時，能夠正確發現並提供他們在弱科學習；面對低成就學生時，因為他們發展較為全面，可以提供他們額外的學習資源，幫助他們縮小與其他同學的學習差距。"
   ]
  },
  {
   "cell_type": "markdown",
   "metadata": {
    "id": "Au8PkhcMLvFz"
   },
   "source": []
  },
  {
   "cell_type": "markdown",
   "metadata": {
    "id": "WgQRzpaPLjOs"
   },
   "source": [
    "\n",
    "### **Reference practices**/**參考做法**\n",
    "\n",
    "---\n",
    "#### Question 1: Normalizing Study Hours/問題 1：正規化學習時數\n",
    "1. Convert the students' study hours (`math_hours`, `science_hours`, and `english_hours`) into NumPy arrays for easier processing./\n",
    "\n",
    "  將學生的學習時數（`math_hours`，`science_hours` 和 `english_hours`）轉換為 NumPy 陣列，便於後續處理。\n",
    "2. Normalize the study hours so that all values fall between 0 and 1. This allows for a fair comparison of study time distribution across different subjects.\n",
    "  \n",
    "  將學習時數進行正規化，使得所有數據落在 0 和 1 之間，這樣可以更公平地比較學生在不同科目上的學習時間分佈。\n",
    "3. Display the normalized study hours for each student and compare whether students have balanced their study time across different subjects.\n",
    "\n",
    "  顯示每位學生正規化後的學習時數，並比較不同學生在各個科目上的學習時間是否均衡。\n",
    "\n",
    "---\n",
    "\n",
    "#### Question 2: Correlation between Study Hours and Performance/問題 2：學習時數與成績的關聯分析\n",
    "1. Create a Pandas DataFrame that consolidates student names, study hours, and scores for easier data analysis.\n",
    "\n",
    "  建立一個 Pandas DataFrame，將學生姓名、學習時數和成績整合在一起，便於後續數據分析。\n",
    "2. Calculate each student's total average score (`Total_Score`) and add a new column to show each student's average score across the three subjects.\n",
    "\n",
    "  計算每位學生的總平均成績（`Total_Score`），並新增一個欄位來顯示每位學生在三個科目中的平均成績。\n",
    "3. Use Pandas correlation functionality to analyze the relationship between study hours and total scores. Check if more study time leads to better performance.\n",
    "\n",
    "  使用 Pandas 的相關性計算功能，分析學習時數與總成績之間的相關性，看看是否學習時間越長，成績越好。\n",
    "4. Investigate whether some students achieve good scores with less study time, which helps identify \"efficient learners.\"\n",
    "\n",
    "  探討有些學生是否在較少學習時間下，卻能獲得不錯的成績，這將幫助學校找到「高效學習者」。\n",
    "\n",
    "5. Sort students by total scores and identify the top three performers in the class. Analyze their study patterns.\n",
    "  \n",
    "  依據學生的總成績進行排序，找出班級中表現最好的三位學生，並分析他們的學習模式。\n",
    "6. Create a bar chart comparing these three students' scores in Math, Science, and English. Identify if they excel in all subjects or in specific ones.\n",
    "\n",
    "  使用條形圖比較這三名學生在數學、科學和英語三個科目中的成績，並找出他們是否在某些科目上表現得特別出色。\n",
    "7. Discuss their study patterns and determine whether they have consistent strategies or focus more on certain subjects.\n",
    "\n",
    "  討論這些學生的學習模式，並指出他們是否具備一致的學習策略，還是只在某些科目上投入了更多時間和精力。\n",
    "\n",
    "---\n",
    "\n",
    "#### Bonus Challenge: Performance Group Analysis/加分挑戰：學生表現分層分析\n",
    "1. Based on each student's total score, group them into three categories: high performers, medium performers, and low performers. Add a `Performance_Level` column to the DataFrame to label these groups.\n",
    "\n",
    "  根據每位學生的總成績，將他們分為三個層級：高成就者、中等成就者和低成就者，並在 DataFrame 中新增一個 `Performance_Level` 欄位來標示這些分組。\n",
    "2. Create a pie chart showing the distribution of students across these performance levels, and analyze the proportions.\n",
    "\n",
    "  使用圓餅圖展示這些學生的分佈情況，並通過圖表來分析班級中不同成就層級的學生比例。\n",
    "3. Reflect on the grouping data, and suggest if the school needs to provide more support for low performers or offer advanced challenges for high performers.\n",
    "\n",
    "  反思這些分層數據，並提出是否需要為低成就者提供更多的學習資源和支持，或為高成就者提供進階課程挑戰。\n",
    "\n",
    "---\n"
   ]
  }
 ],
 "metadata": {
  "colab": {
   "provenance": []
  },
  "kernelspec": {
   "display_name": "Python 3",
   "language": "python",
   "name": "python3"
  },
  "language_info": {
   "codemirror_mode": {
    "name": "ipython",
    "version": 3
   },
   "file_extension": ".py",
   "mimetype": "text/x-python",
   "name": "python",
   "nbconvert_exporter": "python",
   "pygments_lexer": "ipython3",
   "version": "3.8.4"
  }
 },
 "nbformat": 4,
 "nbformat_minor": 1
}
