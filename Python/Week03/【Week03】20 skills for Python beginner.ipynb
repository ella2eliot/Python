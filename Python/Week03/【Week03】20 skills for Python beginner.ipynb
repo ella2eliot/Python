{
 "cells": [
  {
   "cell_type": "markdown",
   "metadata": {},
   "source": [
    "##### !!! please DO NOT rename this file !!!"
   ]
  },
  {
   "cell_type": "markdown",
   "metadata": {
    "colab_type": "text",
    "id": "DzqWge2YYMlR"
   },
   "source": [
    "### 20 skills for Python beginner (2) 12~17\n",
    "- student id:112524031\n",
    "- name：施盈琪"
   ]
  },
  {
   "cell_type": "markdown",
   "metadata": {
    "colab_type": "text",
    "id": "ldX9tXQ7YMnL"
   },
   "source": [
    "##### 12 List"
   ]
  },
  {
   "cell_type": "code",
   "execution_count": 2,
   "metadata": {
    "colab": {},
    "colab_type": "code",
    "id": "YEXd3KWXYMnL"
   },
   "outputs": [
    {
     "name": "stdout",
     "output_type": "stream",
     "text": [
      "hello\n"
     ]
    }
   ],
   "source": [
    "# A list is a collection which is ordered and changeable. Allows duplicate members.\n",
    "# lists are written with square brackets.\n",
    "# You access the list items by referring to the index number\n",
    "\n",
    "LL = [1,3,5,\"7\",11,13,True,False,\"hello\"]\n",
    "print(LL[-1])"
   ]
  },
  {
   "cell_type": "code",
   "execution_count": 3,
   "metadata": {
    "colab": {},
    "colab_type": "code",
    "id": "_LRAgNY5YMnN"
   },
   "outputs": [
    {
     "name": "stdout",
     "output_type": "stream",
     "text": [
      "1\n",
      "True\n",
      "hello\n",
      "[5, '7', 11]\n"
     ]
    }
   ],
   "source": [
    "# Remember that the first item has index 0\n",
    "print(LL[0])\n",
    "print(LL[6])\n",
    "print(LL[-1])\n",
    "print(LL[2:5]) # Range of Indexes"
   ]
  },
  {
   "cell_type": "code",
   "execution_count": 4,
   "metadata": {
    "colab": {},
    "colab_type": "code",
    "id": "Tm3u6-9XYMnP"
   },
   "outputs": [
    {
     "name": "stdout",
     "output_type": "stream",
     "text": [
      "9\n",
      "True\n",
      "3\n"
     ]
    }
   ],
   "source": [
    "print(len(LL)) #To determine how many items a list has\n",
    "print(\"7\" in LL)  # Check if item exists\n",
    "print(LL.index(\"7\")) # Returns the index of the first element with the specified value"
   ]
  },
  {
   "cell_type": "code",
   "execution_count": 7,
   "metadata": {
    "colab": {},
    "colab_type": "code",
    "id": "YPHRcnFRYMnQ"
   },
   "outputs": [
    {
     "name": "stdout",
     "output_type": "stream",
     "text": [
      "['XD', 3, 5, 7, 11, True, False, 'hello', 'NCU']\n"
     ]
    }
   ],
   "source": [
    "# list\n",
    "LL = [1,3,5,\"7\",11,13,True,False,\"hello\"]\n",
    "LL.append(\"NCU\")\n",
    "LL.insert(0, \"XD\")\n",
    "# to add an item\n",
    "LL[4] = 7\n",
    "# to edit an item in a list\n",
    "del LL[1]\n",
    "# remove items from a list\n",
    "LL.remove(13)\n",
    "print(LL)"
   ]
  },
  {
   "cell_type": "code",
   "execution_count": null,
   "metadata": {
    "colab": {},
    "colab_type": "code",
    "id": "eYqxb2prYMnT"
   },
   "outputs": [],
   "source": [
    "# sorts the list ascending"
   ]
  },
  {
   "cell_type": "code",
   "execution_count": 8,
   "metadata": {
    "colab": {},
    "colab_type": "code",
    "id": "4gCJslqZYMnW"
   },
   "outputs": [
    {
     "data": {
      "text/plain": [
       "'XD'"
      ]
     },
     "execution_count": 8,
     "metadata": {},
     "output_type": "execute_result"
    }
   ],
   "source": [
    "LL.pop(0)"
   ]
  },
  {
   "cell_type": "code",
   "execution_count": 9,
   "metadata": {},
   "outputs": [
    {
     "name": "stdout",
     "output_type": "stream",
     "text": [
      "[3, 5, 7, 11, True, False, 'hello', 'NCU']\n"
     ]
    }
   ],
   "source": [
    "print(LL)"
   ]
  },
  {
   "cell_type": "markdown",
   "metadata": {
    "colab_type": "text",
    "id": "9LwmjJSbYMnY"
   },
   "source": [
    "##### 13 List VS String"
   ]
  },
  {
   "cell_type": "code",
   "execution_count": 13,
   "metadata": {
    "colab": {},
    "colab_type": "code",
    "id": "GS4hbJL1YMnZ"
   },
   "outputs": [
    {
     "name": "stdout",
     "output_type": "stream",
     "text": [
      "Python\n",
      "['P', 'y', 't', 'h', 'o', 'n']\n"
     ]
    }
   ],
   "source": [
    "# string ==> list\n",
    "S = \"Python\"\n",
    "L = list(S)\n",
    "print(S)\n",
    "print(L)"
   ]
  },
  {
   "cell_type": "code",
   "execution_count": 14,
   "metadata": {
    "colab": {},
    "colab_type": "code",
    "id": "s5xj_MOsYMna"
   },
   "outputs": [
    {
     "name": "stdout",
     "output_type": "stream",
     "text": [
      "on\n",
      "['o', 'n']\n",
      "6\n",
      "6\n"
     ]
    }
   ],
   "source": [
    "print(S[-2:])\n",
    "print(L[-2:])\n",
    "print(len(S))\n",
    "print(len(L))"
   ]
  },
  {
   "cell_type": "code",
   "execution_count": 16,
   "metadata": {
    "colab": {},
    "colab_type": "code",
    "id": "XkBkSig8YMnc"
   },
   "outputs": [
    {
     "name": "stdout",
     "output_type": "stream",
     "text": [
      "['p', 'is', 'Short', 'We', 'need', 'Python']\n"
     ]
    },
    {
     "ename": "TypeError",
     "evalue": "'str' object does not support item assignment",
     "output_type": "error",
     "traceback": [
      "\u001b[0;31m---------------------------------------------------------------------------\u001b[0m",
      "\u001b[0;31mTypeError\u001b[0m                                 Traceback (most recent call last)",
      "\u001b[0;32m<ipython-input-16-130b25fe6c2d>\u001b[0m in \u001b[0;36m<module>\u001b[0;34m\u001b[0m\n\u001b[1;32m      1\u001b[0m \u001b[0mL\u001b[0m\u001b[0;34m[\u001b[0m\u001b[0;36m0\u001b[0m\u001b[0;34m]\u001b[0m\u001b[0;34m=\u001b[0m\u001b[0;34m'p'\u001b[0m\u001b[0;34m\u001b[0m\u001b[0;34m\u001b[0m\u001b[0m\n\u001b[1;32m      2\u001b[0m \u001b[0mprint\u001b[0m\u001b[0;34m(\u001b[0m\u001b[0mL\u001b[0m\u001b[0;34m)\u001b[0m\u001b[0;34m\u001b[0m\u001b[0;34m\u001b[0m\u001b[0m\n\u001b[0;32m----> 3\u001b[0;31m \u001b[0mS\u001b[0m\u001b[0;34m[\u001b[0m\u001b[0;36m0\u001b[0m\u001b[0;34m]\u001b[0m \u001b[0;34m=\u001b[0m \u001b[0;34m\"p\"\u001b[0m\u001b[0;34m\u001b[0m\u001b[0;34m\u001b[0m\u001b[0m\n\u001b[0m",
      "\u001b[0;31mTypeError\u001b[0m: 'str' object does not support item assignment"
     ]
    }
   ],
   "source": [
    "L[0]='p'\n",
    "print(L)\n",
    "S[0] = \"p\""
   ]
  },
  {
   "cell_type": "code",
   "execution_count": 17,
   "metadata": {
    "colab": {},
    "colab_type": "code",
    "id": "Z3VU2BiZYMne"
   },
   "outputs": [
    {
     "data": {
      "text/plain": [
       "['Life', 'is', 'Short', 'We', 'need', 'Python']"
      ]
     },
     "execution_count": 17,
     "metadata": {},
     "output_type": "execute_result"
    }
   ],
   "source": [
    "# string ==> list\n",
    "# Split a string into a list where each word is a list item\n",
    "S = \"Life is Short We need Python\"\n",
    "list(S)\n",
    "L = S.split()\n",
    "L"
   ]
  },
  {
   "cell_type": "code",
   "execution_count": 1,
   "metadata": {
    "colab": {},
    "colab_type": "code",
    "id": "V6KpKp0JYMng"
   },
   "outputs": [
    {
     "data": {
      "text/plain": [
       "'Life is Short we need Python'"
      ]
     },
     "execution_count": 1,
     "metadata": {},
     "output_type": "execute_result"
    }
   ],
   "source": [
    "# list　＝＞　string\n",
    "# takes all items in an iterable and joins them into one string.\n",
    "L = ['Life', 'is', 'Short', 'we', 'need', 'Python']\n",
    "SS = \" \".join(L)\n",
    "SS"
   ]
  },
  {
   "cell_type": "code",
   "execution_count": null,
   "metadata": {
    "colab": {},
    "colab_type": "code",
    "id": "PAe-HzD0YMni"
   },
   "outputs": [],
   "source": []
  },
  {
   "cell_type": "markdown",
   "metadata": {
    "colab_type": "text",
    "id": "9gKjuxvjYMnj"
   },
   "source": [
    "##### 14 list in list"
   ]
  },
  {
   "cell_type": "code",
   "execution_count": 2,
   "metadata": {
    "colab": {},
    "colab_type": "code",
    "id": "FKZZWxHoYMnj"
   },
   "outputs": [],
   "source": [
    "a = [1,2,3,4,5,6,7,8,9] # 1D\n",
    "two_da = [[1,2,3],[4,5,6],[7,8,9]]  #2D"
   ]
  },
  {
   "cell_type": "code",
   "execution_count": 3,
   "metadata": {
    "colab": {},
    "colab_type": "code",
    "id": "Ph9eoVSuYMnm"
   },
   "outputs": [
    {
     "data": {
      "text/plain": [
       "[1, 2, 3, 4, 5, 6, 7, 8, 9]"
      ]
     },
     "execution_count": 3,
     "metadata": {},
     "output_type": "execute_result"
    }
   ],
   "source": [
    "a"
   ]
  },
  {
   "cell_type": "code",
   "execution_count": 4,
   "metadata": {},
   "outputs": [
    {
     "data": {
      "text/plain": [
       "6"
      ]
     },
     "execution_count": 4,
     "metadata": {},
     "output_type": "execute_result"
    }
   ],
   "source": [
    "two_da[1][2]"
   ]
  },
  {
   "cell_type": "markdown",
   "metadata": {
    "colab_type": "text",
    "id": "EH-h8L3eYMno"
   },
   "source": [
    "##### 15 tuple"
   ]
  },
  {
   "cell_type": "code",
   "execution_count": null,
   "metadata": {
    "colab": {},
    "colab_type": "code",
    "id": "CJ-Tc4ExYMno"
   },
   "outputs": [],
   "source": [
    "# () Tuple is  ordered and UNchangeable\n",
    "# [] List is a collection which is ordered and changeable. Allows duplicate members.\n",
    "# {} Dict is changeable and ordered by KEY\n",
    "# {} Set is changeable and DISordered"
   ]
  },
  {
   "cell_type": "code",
   "execution_count": 5,
   "metadata": {
    "colab": {},
    "colab_type": "code",
    "id": "Cw4HNdzwYMns"
   },
   "outputs": [],
   "source": [
    "### tuple\n",
    "# A tuple is a collection which is ordered and unchangeable. \n",
    "# Written with round brackets裡面的值可以呼叫不能修改\n",
    "t = (3,6,9)"
   ]
  },
  {
   "cell_type": "code",
   "execution_count": 6,
   "metadata": {},
   "outputs": [
    {
     "ename": "TypeError",
     "evalue": "'tuple' object does not support item assignment",
     "output_type": "error",
     "traceback": [
      "\u001b[0;31m---------------------------------------------------------------------------\u001b[0m",
      "\u001b[0;31mTypeError\u001b[0m                                 Traceback (most recent call last)",
      "\u001b[0;32m<ipython-input-6-d4deb1064612>\u001b[0m in \u001b[0;36m<module>\u001b[0;34m\u001b[0m\n\u001b[0;32m----> 1\u001b[0;31m \u001b[0mt\u001b[0m\u001b[0;34m[\u001b[0m\u001b[0;36m1\u001b[0m\u001b[0;34m]\u001b[0m\u001b[0;34m=\u001b[0m\u001b[0;36m888\u001b[0m\u001b[0;34m\u001b[0m\u001b[0;34m\u001b[0m\u001b[0m\n\u001b[0m\u001b[1;32m      2\u001b[0m \u001b[0mt\u001b[0m\u001b[0;34m[\u001b[0m\u001b[0;36m1\u001b[0m\u001b[0;34m]\u001b[0m\u001b[0;34m\u001b[0m\u001b[0;34m\u001b[0m\u001b[0m\n",
      "\u001b[0;31mTypeError\u001b[0m: 'tuple' object does not support item assignment"
     ]
    }
   ],
   "source": [
    "t[1]=888\n",
    "t[1]"
   ]
  },
  {
   "cell_type": "code",
   "execution_count": 7,
   "metadata": {
    "colab": {},
    "colab_type": "code",
    "id": "_rqdQSbHYMnt"
   },
   "outputs": [
    {
     "name": "stdout",
     "output_type": "stream",
     "text": [
      "apple\n",
      "banana\n",
      "cherry\n"
     ]
    }
   ],
   "source": [
    "thistuple = (\"apple\", \"banana\", \"cherry\")\n",
    "for x in thistuple:\n",
    "    print(x)"
   ]
  },
  {
   "cell_type": "code",
   "execution_count": 12,
   "metadata": {
    "colab": {},
    "colab_type": "code",
    "id": "CNb6ANbnYMnx"
   },
   "outputs": [
    {
     "name": "stdout",
     "output_type": "stream",
     "text": [
      "I am a 20 years old student\n",
      "I am a 20 years old student\n"
     ]
    }
   ],
   "source": [
    "# print \"Hi~, I am XX years old XXX\"\n",
    "# Basic formatting\n",
    "# Method 1\n",
    "age = 20\n",
    "pro = \"student\"\n",
    "print(\"I am a\", age, \"years old\", pro)\n",
    "print(\"I am a \"+ str(age)+ \" years old \"+ pro)"
   ]
  },
  {
   "cell_type": "code",
   "execution_count": 13,
   "metadata": {
    "colab": {},
    "colab_type": "code",
    "id": "uLmEGn5eYMnz"
   },
   "outputs": [
    {
     "data": {
      "text/plain": [
       "'Hi~, I am 34 years old teacher.'"
      ]
     },
     "execution_count": 13,
     "metadata": {},
     "output_type": "execute_result"
    }
   ],
   "source": [
    "# Simple positional formatting is probably the most common use-case. \n",
    "# Use it if the order of your arguments is not likely to change and \n",
    "# you only have very few elements you want to concatenate.\n",
    "# Method 2\n",
    "age = 34\n",
    "pro = \"teacher\"\n",
    "format_A = \"Hi~, I am %s years old %s.\" #str\n",
    "values_B =(age , pro) #tuple\n",
    "format_A % values_B"
   ]
  },
  {
   "cell_type": "code",
   "execution_count": null,
   "metadata": {
    "colab": {},
    "colab_type": "code",
    "id": "vg-aGlzeYMn0"
   },
   "outputs": [],
   "source": []
  },
  {
   "cell_type": "code",
   "execution_count": null,
   "metadata": {
    "colab": {},
    "colab_type": "code",
    "id": "3JcwjliBYMn3"
   },
   "outputs": [],
   "source": []
  },
  {
   "cell_type": "markdown",
   "metadata": {
    "colab_type": "text",
    "id": "FVgcUoTlYMn4"
   },
   "source": [
    "##### 16 dictionary"
   ]
  },
  {
   "cell_type": "code",
   "execution_count": null,
   "metadata": {
    "colab": {},
    "colab_type": "code",
    "id": "nLc0eKlcYMn5"
   },
   "outputs": [],
   "source": [
    "# A dictionary is a collection which is unordered, changeable and indexed. \n",
    "# dictionaries are written with curly brackets, and they have keys and values."
   ]
  },
  {
   "cell_type": "code",
   "execution_count": 1,
   "metadata": {
    "colab": {},
    "colab_type": "code",
    "id": "0rowx_9hYMn7"
   },
   "outputs": [],
   "source": [
    "# Method 1： {key1:value1, key2:value2, .. }\n",
    "week = {\"Mon\":\"星期一\" , \n",
    "        \"Tue\":\"星期二\" , \n",
    "        \"Wed\":\"星期三\" }"
   ]
  },
  {
   "cell_type": "code",
   "execution_count": 2,
   "metadata": {},
   "outputs": [
    {
     "data": {
      "text/plain": [
       "'星期一'"
      ]
     },
     "execution_count": 2,
     "metadata": {},
     "output_type": "execute_result"
    }
   ],
   "source": [
    "week[\"Mon\"]"
   ]
  },
  {
   "cell_type": "code",
   "execution_count": 8,
   "metadata": {
    "colab": {},
    "colab_type": "code",
    "id": "ZSDKDKKkYMn8"
   },
   "outputs": [
    {
     "data": {
      "text/plain": [
       "{'Mon': '星期一', 'Tue': '星期二', 'Wed': '星期三'}"
      ]
     },
     "execution_count": 8,
     "metadata": {},
     "output_type": "execute_result"
    }
   ],
   "source": [
    "# Method 2： { }\n",
    "W = {} #empty dict\n",
    "W[\"Mon\"]=\"星期一\" \n",
    "W[\"Tue\"]=\"星期二\"\n",
    "W[\"Wed\"]=\"星期三\"\n",
    "W"
   ]
  },
  {
   "cell_type": "code",
   "execution_count": 4,
   "metadata": {},
   "outputs": [
    {
     "data": {
      "text/plain": [
       "dict"
      ]
     },
     "execution_count": 4,
     "metadata": {},
     "output_type": "execute_result"
    }
   ],
   "source": [
    "W = {} #empty dict\n",
    "type(W)"
   ]
  },
  {
   "cell_type": "code",
   "execution_count": 9,
   "metadata": {
    "colab": {},
    "colab_type": "code",
    "id": "yi55Q6JkYMn-"
   },
   "outputs": [
    {
     "name": "stdout",
     "output_type": "stream",
     "text": [
      "dict_keys(['Mon', 'Tue', 'Wed'])\n",
      "dict_values(['星期一', '星期二', '星期三'])\n",
      "dict_items([('Mon', '星期一'), ('Tue', '星期二'), ('Wed', '星期三')])\n"
     ]
    }
   ],
   "source": [
    "# keyd, values, key-value pairs(items)\n",
    "print(W.keys())\n",
    "print(W.values())\n",
    "print(W.items())"
   ]
  },
  {
   "cell_type": "code",
   "execution_count": 11,
   "metadata": {
    "colab": {},
    "colab_type": "code",
    "id": "Ykdx5fPLYMn_"
   },
   "outputs": [
    {
     "data": {
      "text/plain": [
       "{'Mon': '星期1', 'Wed': '星期三', 'Thu': '星期四'}"
      ]
     },
     "execution_count": 11,
     "metadata": {},
     "output_type": "execute_result"
    }
   ],
   "source": [
    "# Add\n",
    "W[\"Thu\"] = \"星期四\"\n",
    "# Edit(for value)\n",
    "W[\"Mon\"] = \"星期1\"\n",
    "# remove\n",
    "del W[\"Tue\"]\n",
    "W"
   ]
  },
  {
   "cell_type": "code",
   "execution_count": 13,
   "metadata": {
    "colab": {},
    "colab_type": "code",
    "id": "WMtrH0LfYMoB"
   },
   "outputs": [
    {
     "data": {
      "text/plain": [
       "False"
      ]
     },
     "execution_count": 13,
     "metadata": {},
     "output_type": "execute_result"
    }
   ],
   "source": [
    "# Check if Key Exists 確認\n",
    "\"Tue\" in W\n",
    "\n"
   ]
  },
  {
   "cell_type": "code",
   "execution_count": 15,
   "metadata": {
    "colab": {},
    "colab_type": "code",
    "id": "dqynOI5JYMoC"
   },
   "outputs": [
    {
     "name": "stdout",
     "output_type": "stream",
     "text": [
      "Mon\n",
      "Wed\n",
      "Thu\n"
     ]
    }
   ],
   "source": [
    "# You can loop through a dictionary by using for loop\n",
    "# When looping through a dictionary, the return value are the keys of the dictionary, \n",
    "# but there are methods to return the values as well.\n",
    "\n",
    "for i in W:\n",
    "    print(i)"
   ]
  },
  {
   "cell_type": "code",
   "execution_count": 21,
   "metadata": {},
   "outputs": [
    {
     "name": "stdout",
     "output_type": "stream",
     "text": [
      "星期1\n",
      "星期三\n",
      "星期四\n"
     ]
    }
   ],
   "source": [
    "#print all values in dict\n",
    "for i in W:\n",
    "    print(W[i])"
   ]
  },
  {
   "cell_type": "code",
   "execution_count": 23,
   "metadata": {},
   "outputs": [
    {
     "name": "stdout",
     "output_type": "stream",
     "text": [
      "星期1\n",
      "星期三\n",
      "星期四\n"
     ]
    }
   ],
   "source": [
    "#print all values in dict\n",
    "for i in W.values():\n",
    "    print(i)"
   ]
  },
  {
   "cell_type": "code",
   "execution_count": 25,
   "metadata": {},
   "outputs": [
    {
     "name": "stdout",
     "output_type": "stream",
     "text": [
      "('Mon', '星期1')\n",
      "('Wed', '星期三')\n",
      "('Thu', '星期四')\n"
     ]
    }
   ],
   "source": [
    "#print BOTH values and KEY in dict\n",
    "for i in W.items():\n",
    "    print(i)"
   ]
  },
  {
   "cell_type": "code",
   "execution_count": 27,
   "metadata": {},
   "outputs": [
    {
     "name": "stdout",
     "output_type": "stream",
     "text": [
      "Mon is 星期1\n",
      "Wed is 星期三\n",
      "Thu is 星期四\n"
     ]
    }
   ],
   "source": [
    "#print BOTH values and KEY in dict\n",
    "for k, v in W.items():\n",
    "    print(k, \"is\", v)"
   ]
  },
  {
   "cell_type": "code",
   "execution_count": 30,
   "metadata": {
    "colab": {},
    "colab_type": "code",
    "id": "BA-LAl69YMoD"
   },
   "outputs": [],
   "source": [
    "# diffetent data type(value) in the dict\n",
    "\n",
    "inv = {\n",
    "    \"coin\":168, #int\n",
    "    \"wallet\": [\"ID\",\"Credit Card\"], #list\n",
    "    \"backpack\":{ #dict\n",
    "                \"phone\":1,\n",
    "                \"NB\":1,\n",
    "                \"apple\":3\n",
    "               }\n",
    "}"
   ]
  },
  {
   "cell_type": "code",
   "execution_count": 31,
   "metadata": {},
   "outputs": [
    {
     "data": {
      "text/plain": [
       "3"
      ]
     },
     "execution_count": 31,
     "metadata": {},
     "output_type": "execute_result"
    }
   ],
   "source": [
    "len(inv)"
   ]
  },
  {
   "cell_type": "code",
   "execution_count": 34,
   "metadata": {},
   "outputs": [
    {
     "data": {
      "text/plain": [
       "1"
      ]
     },
     "execution_count": 34,
     "metadata": {},
     "output_type": "execute_result"
    }
   ],
   "source": [
    "inv[\"backpack\"][\"phone\"]"
   ]
  },
  {
   "cell_type": "code",
   "execution_count": 36,
   "metadata": {
    "colab": {},
    "colab_type": "code",
    "id": "N-IVpaa2YMoE"
   },
   "outputs": [
    {
     "data": {
      "text/plain": [
       "{'coin': 168,\n",
       " 'wallet': ['ID', 'Credit Card', 'photo', 'photo'],\n",
       " 'backpack': {'phone': 1, 'NB': 1, 'apple': 3}}"
      ]
     },
     "execution_count": 36,
     "metadata": {},
     "output_type": "execute_result"
    }
   ],
   "source": [
    "# revise, add a \"photo\" in wallet\n",
    "inv[\"wallet\"].append(\"photo\")\n",
    "inv"
   ]
  },
  {
   "cell_type": "code",
   "execution_count": 37,
   "metadata": {},
   "outputs": [
    {
     "data": {
      "text/plain": [
       "{'coin': 168,\n",
       " 'wallet': ['ID', 'Credit Card', 'photo', 'photo'],\n",
       " 'backpack': {'phone': 1, 'NB': 1, 'apple': 2}}"
      ]
     },
     "execution_count": 37,
     "metadata": {},
     "output_type": "execute_result"
    }
   ],
   "source": [
    "# revise, revise apple from 3 to 2\n",
    "inv[\"backpack\"][\"apple\"] = 2\n",
    "inv"
   ]
  },
  {
   "cell_type": "code",
   "execution_count": 38,
   "metadata": {
    "colab": {},
    "colab_type": "code",
    "id": "7ZcDNJUVYMoG"
   },
   "outputs": [
    {
     "data": {
      "text/plain": [
       "{}"
      ]
     },
     "execution_count": 38,
     "metadata": {},
     "output_type": "execute_result"
    }
   ],
   "source": [
    "# clear\n",
    "W.clear()\n",
    "W"
   ]
  },
  {
   "cell_type": "code",
   "execution_count": 39,
   "metadata": {
    "colab": {},
    "colab_type": "code",
    "id": "5ivQDFWNYMoJ"
   },
   "outputs": [
    {
     "data": {
      "text/plain": [
       "{'Mon': '周一', 'Tue': '周二', 'Wed': '星期三', 'Thu': '週四'}"
      ]
     },
     "execution_count": 39,
     "metadata": {},
     "output_type": "execute_result"
    }
   ],
   "source": [
    "# update() \n",
    "# updates the dictionary with the elements from the another dictionary object or from an iterable of key/value pairs. \n",
    "# adds element(s) to the dictionary if the key is not in the dictionary.\n",
    "# If the key is in the dictionary, it updates the key with the new value.\n",
    "\n",
    "W1 = {'Mon': '星期一', 'Tue': '星期二', 'Wed': '星期三'}\n",
    "W2 = {'Mon': '周一', 'Tue': '周二', 'Thu': '週四'}\n",
    "W1.update(W2)\n",
    "W1"
   ]
  },
  {
   "cell_type": "markdown",
   "metadata": {
    "colab_type": "text",
    "id": "vD5y3VmSYMoM"
   },
   "source": [
    "##### 17 set"
   ]
  },
  {
   "cell_type": "code",
   "execution_count": 40,
   "metadata": {
    "colab": {},
    "colab_type": "code",
    "id": "dGqRf4baYMoM"
   },
   "outputs": [
    {
     "data": {
      "text/plain": [
       "{2, 4, 6, 8, 12}"
      ]
     },
     "execution_count": 40,
     "metadata": {},
     "output_type": "execute_result"
    }
   ],
   "source": [
    "# set {} items in set should be unique\n",
    "# A set is a collection which is unordered and unindexed. \n",
    "# sets are written with curly brackets.\n",
    "\n",
    "set1 =  {2, 4, 6, 4, 6, 6, 8 ,12}\n",
    "set1\n"
   ]
  },
  {
   "cell_type": "code",
   "execution_count": 41,
   "metadata": {},
   "outputs": [
    {
     "ename": "TypeError",
     "evalue": "'set' object is not subscriptable",
     "output_type": "error",
     "traceback": [
      "\u001b[0;31m---------------------------------------------------------------------------\u001b[0m",
      "\u001b[0;31mTypeError\u001b[0m                                 Traceback (most recent call last)",
      "\u001b[0;32m<ipython-input-41-c38563f1af7a>\u001b[0m in \u001b[0;36m<module>\u001b[0;34m\u001b[0m\n\u001b[0;32m----> 1\u001b[0;31m \u001b[0mset1\u001b[0m\u001b[0;34m[\u001b[0m\u001b[0;36m0\u001b[0m\u001b[0;34m]\u001b[0m\u001b[0;34m\u001b[0m\u001b[0;34m\u001b[0m\u001b[0m\n\u001b[0m",
      "\u001b[0;31mTypeError\u001b[0m: 'set' object is not subscriptable"
     ]
    }
   ],
   "source": [
    "set1[0]"
   ]
  },
  {
   "cell_type": "code",
   "execution_count": 43,
   "metadata": {
    "colab": {},
    "colab_type": "code",
    "id": "1rydv0-3YMoO"
   },
   "outputs": [
    {
     "data": {
      "text/plain": [
       "{2, 4, 6, 8, 100}"
      ]
     },
     "execution_count": 43,
     "metadata": {},
     "output_type": "execute_result"
    }
   ],
   "source": [
    "# Add\n",
    "set1.add(100)\n",
    "# Remove\n",
    "set1.remove(12)\n",
    "set1"
   ]
  },
  {
   "cell_type": "code",
   "execution_count": 45,
   "metadata": {
    "colab": {},
    "colab_type": "code",
    "id": "fQZYgx2uYMoQ"
   },
   "outputs": [
    {
     "name": "stdout",
     "output_type": "stream",
     "text": [
      "{2, 4, 6}\n",
      "{1, 2, 3, 4, 5, 6, 8, 10}\n",
      "{8, 10}\n"
     ]
    }
   ],
   "source": [
    "setA = {2,4,6,8,10}\n",
    "setB = {1,2,3,4,5,6}\n",
    "\n",
    "# Join Two Sets\n",
    "\n",
    "print(setA & setB) # intersetion\n",
    "print(setA | setB) # union\n",
    "print(setA - setB) # difference"
   ]
  },
  {
   "cell_type": "code",
   "execution_count": 46,
   "metadata": {
    "colab": {},
    "colab_type": "code",
    "id": "yCVCZh_iYMoR"
   },
   "outputs": [
    {
     "name": "stdout",
     "output_type": "stream",
     "text": [
      "True\n",
      "True\n",
      "False\n"
     ]
    }
   ],
   "source": [
    "# subset\n",
    "setC = {2,4,6,8,10}\n",
    "setD = {2,4,6}\n",
    "print(setD <= setC) # Returns whether another set contains this set or not\n",
    "print(setD.issubset(setC)) #Returns whether another set contains this set or not\n",
    "print(setD.isdisjoint(setC)) \n",
    "#Returns whether two sets have a intersection or not\n",
    "#判断两个集合是否包含相同的元素，如果没有返回 True，有则返回 False"
   ]
  }
 ],
 "metadata": {
  "colab": {
   "collapsed_sections": [],
   "name": "【Day01】手把手學會如何撩Python-練習.ipynb",
   "provenance": []
  },
  "kernelspec": {
   "display_name": "Python 3",
   "language": "python",
   "name": "python3"
  },
  "language_info": {
   "codemirror_mode": {
    "name": "ipython",
    "version": 3
   },
   "file_extension": ".py",
   "mimetype": "text/x-python",
   "name": "python",
   "nbconvert_exporter": "python",
   "pygments_lexer": "ipython3",
   "version": "3.8.4"
  }
 },
 "nbformat": 4,
 "nbformat_minor": 1
}
